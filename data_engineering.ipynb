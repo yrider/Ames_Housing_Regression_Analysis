{
 "cells": [
  {
   "cell_type": "markdown",
   "id": "ce149e9b-c76b-4cb1-9524-9b1a13b6f967",
   "metadata": {},
   "source": [
    "### Data engineering section:\n",
    "\n",
    "Here we'll analyse the initial dataest and clean it to prepare for regression analysis of our target variable, house prices.\n",
    "\n",
    "Note, there is a data description text file alongside the data to help make better data inferences."
   ]
  },
  {
   "cell_type": "code",
   "execution_count": 1,
   "id": "908afe67-418a-4129-a7a2-0b005bfd8d1a",
   "metadata": {},
   "outputs": [],
   "source": [
    "import probscale\n",
    "import pandas as pd\n",
    "import numpy as np\n",
    "import seaborn as sns\n",
    "import scipy.stats as stats\n",
    "import matplotlib.pyplot as plt\n",
    "%matplotlib inline"
   ]
  },
  {
   "cell_type": "markdown",
   "id": "11e6f34b-2beb-430d-bb2a-371317411693",
   "metadata": {},
   "source": [
    "#### Data cleaning section: "
   ]
  },
  {
   "cell_type": "code",
   "execution_count": 2,
   "id": "2debcd34-a25b-4351-bb2d-c297b5e1842a",
   "metadata": {},
   "outputs": [
    {
     "data": {
      "text/html": [
       "<div>\n",
       "<style scoped>\n",
       "    .dataframe tbody tr th:only-of-type {\n",
       "        vertical-align: middle;\n",
       "    }\n",
       "\n",
       "    .dataframe tbody tr th {\n",
       "        vertical-align: top;\n",
       "    }\n",
       "\n",
       "    .dataframe thead th {\n",
       "        text-align: right;\n",
       "    }\n",
       "</style>\n",
       "<table border=\"1\" class=\"dataframe\">\n",
       "  <thead>\n",
       "    <tr style=\"text-align: right;\">\n",
       "      <th></th>\n",
       "      <th>Unnamed: 0</th>\n",
       "      <th>Order</th>\n",
       "      <th>PID</th>\n",
       "      <th>MS SubClass</th>\n",
       "      <th>MS Zoning</th>\n",
       "      <th>Lot Frontage</th>\n",
       "      <th>Lot Area</th>\n",
       "      <th>Street</th>\n",
       "      <th>Alley</th>\n",
       "      <th>Lot Shape</th>\n",
       "      <th>...</th>\n",
       "      <th>Pool Area</th>\n",
       "      <th>Pool QC</th>\n",
       "      <th>Fence</th>\n",
       "      <th>Misc Feature</th>\n",
       "      <th>Misc Val</th>\n",
       "      <th>Mo Sold</th>\n",
       "      <th>Yr Sold</th>\n",
       "      <th>Sale Type</th>\n",
       "      <th>Sale Condition</th>\n",
       "      <th>SalePrice</th>\n",
       "    </tr>\n",
       "  </thead>\n",
       "  <tbody>\n",
       "    <tr>\n",
       "      <th>0</th>\n",
       "      <td>0</td>\n",
       "      <td>1</td>\n",
       "      <td>526301100</td>\n",
       "      <td>20</td>\n",
       "      <td>RL</td>\n",
       "      <td>141.0</td>\n",
       "      <td>31770</td>\n",
       "      <td>Pave</td>\n",
       "      <td>NaN</td>\n",
       "      <td>IR1</td>\n",
       "      <td>...</td>\n",
       "      <td>0</td>\n",
       "      <td>NaN</td>\n",
       "      <td>NaN</td>\n",
       "      <td>NaN</td>\n",
       "      <td>0</td>\n",
       "      <td>5</td>\n",
       "      <td>2010</td>\n",
       "      <td>WD</td>\n",
       "      <td>Normal</td>\n",
       "      <td>215000</td>\n",
       "    </tr>\n",
       "    <tr>\n",
       "      <th>1</th>\n",
       "      <td>1</td>\n",
       "      <td>2</td>\n",
       "      <td>526350040</td>\n",
       "      <td>20</td>\n",
       "      <td>RH</td>\n",
       "      <td>80.0</td>\n",
       "      <td>11622</td>\n",
       "      <td>Pave</td>\n",
       "      <td>NaN</td>\n",
       "      <td>Reg</td>\n",
       "      <td>...</td>\n",
       "      <td>0</td>\n",
       "      <td>NaN</td>\n",
       "      <td>MnPrv</td>\n",
       "      <td>NaN</td>\n",
       "      <td>0</td>\n",
       "      <td>6</td>\n",
       "      <td>2010</td>\n",
       "      <td>WD</td>\n",
       "      <td>Normal</td>\n",
       "      <td>105000</td>\n",
       "    </tr>\n",
       "    <tr>\n",
       "      <th>2</th>\n",
       "      <td>2</td>\n",
       "      <td>3</td>\n",
       "      <td>526351010</td>\n",
       "      <td>20</td>\n",
       "      <td>RL</td>\n",
       "      <td>81.0</td>\n",
       "      <td>14267</td>\n",
       "      <td>Pave</td>\n",
       "      <td>NaN</td>\n",
       "      <td>IR1</td>\n",
       "      <td>...</td>\n",
       "      <td>0</td>\n",
       "      <td>NaN</td>\n",
       "      <td>NaN</td>\n",
       "      <td>Gar2</td>\n",
       "      <td>12500</td>\n",
       "      <td>6</td>\n",
       "      <td>2010</td>\n",
       "      <td>WD</td>\n",
       "      <td>Normal</td>\n",
       "      <td>172000</td>\n",
       "    </tr>\n",
       "    <tr>\n",
       "      <th>3</th>\n",
       "      <td>3</td>\n",
       "      <td>4</td>\n",
       "      <td>526353030</td>\n",
       "      <td>20</td>\n",
       "      <td>RL</td>\n",
       "      <td>93.0</td>\n",
       "      <td>11160</td>\n",
       "      <td>Pave</td>\n",
       "      <td>NaN</td>\n",
       "      <td>Reg</td>\n",
       "      <td>...</td>\n",
       "      <td>0</td>\n",
       "      <td>NaN</td>\n",
       "      <td>NaN</td>\n",
       "      <td>NaN</td>\n",
       "      <td>0</td>\n",
       "      <td>4</td>\n",
       "      <td>2010</td>\n",
       "      <td>WD</td>\n",
       "      <td>Normal</td>\n",
       "      <td>244000</td>\n",
       "    </tr>\n",
       "    <tr>\n",
       "      <th>4</th>\n",
       "      <td>4</td>\n",
       "      <td>5</td>\n",
       "      <td>527105010</td>\n",
       "      <td>60</td>\n",
       "      <td>RL</td>\n",
       "      <td>74.0</td>\n",
       "      <td>13830</td>\n",
       "      <td>Pave</td>\n",
       "      <td>NaN</td>\n",
       "      <td>IR1</td>\n",
       "      <td>...</td>\n",
       "      <td>0</td>\n",
       "      <td>NaN</td>\n",
       "      <td>MnPrv</td>\n",
       "      <td>NaN</td>\n",
       "      <td>0</td>\n",
       "      <td>3</td>\n",
       "      <td>2010</td>\n",
       "      <td>WD</td>\n",
       "      <td>Normal</td>\n",
       "      <td>189900</td>\n",
       "    </tr>\n",
       "    <tr>\n",
       "      <th>5</th>\n",
       "      <td>5</td>\n",
       "      <td>6</td>\n",
       "      <td>527105030</td>\n",
       "      <td>60</td>\n",
       "      <td>RL</td>\n",
       "      <td>78.0</td>\n",
       "      <td>9978</td>\n",
       "      <td>Pave</td>\n",
       "      <td>NaN</td>\n",
       "      <td>IR1</td>\n",
       "      <td>...</td>\n",
       "      <td>0</td>\n",
       "      <td>NaN</td>\n",
       "      <td>NaN</td>\n",
       "      <td>NaN</td>\n",
       "      <td>0</td>\n",
       "      <td>6</td>\n",
       "      <td>2010</td>\n",
       "      <td>WD</td>\n",
       "      <td>Normal</td>\n",
       "      <td>195500</td>\n",
       "    </tr>\n",
       "    <tr>\n",
       "      <th>6</th>\n",
       "      <td>6</td>\n",
       "      <td>7</td>\n",
       "      <td>527127150</td>\n",
       "      <td>120</td>\n",
       "      <td>RL</td>\n",
       "      <td>41.0</td>\n",
       "      <td>4920</td>\n",
       "      <td>Pave</td>\n",
       "      <td>NaN</td>\n",
       "      <td>Reg</td>\n",
       "      <td>...</td>\n",
       "      <td>0</td>\n",
       "      <td>NaN</td>\n",
       "      <td>NaN</td>\n",
       "      <td>NaN</td>\n",
       "      <td>0</td>\n",
       "      <td>4</td>\n",
       "      <td>2010</td>\n",
       "      <td>WD</td>\n",
       "      <td>Normal</td>\n",
       "      <td>213500</td>\n",
       "    </tr>\n",
       "    <tr>\n",
       "      <th>7</th>\n",
       "      <td>7</td>\n",
       "      <td>8</td>\n",
       "      <td>527145080</td>\n",
       "      <td>120</td>\n",
       "      <td>RL</td>\n",
       "      <td>43.0</td>\n",
       "      <td>5005</td>\n",
       "      <td>Pave</td>\n",
       "      <td>NaN</td>\n",
       "      <td>IR1</td>\n",
       "      <td>...</td>\n",
       "      <td>0</td>\n",
       "      <td>NaN</td>\n",
       "      <td>NaN</td>\n",
       "      <td>NaN</td>\n",
       "      <td>0</td>\n",
       "      <td>1</td>\n",
       "      <td>2010</td>\n",
       "      <td>WD</td>\n",
       "      <td>Normal</td>\n",
       "      <td>191500</td>\n",
       "    </tr>\n",
       "    <tr>\n",
       "      <th>8</th>\n",
       "      <td>8</td>\n",
       "      <td>9</td>\n",
       "      <td>527146030</td>\n",
       "      <td>120</td>\n",
       "      <td>RL</td>\n",
       "      <td>39.0</td>\n",
       "      <td>5389</td>\n",
       "      <td>Pave</td>\n",
       "      <td>NaN</td>\n",
       "      <td>IR1</td>\n",
       "      <td>...</td>\n",
       "      <td>0</td>\n",
       "      <td>NaN</td>\n",
       "      <td>NaN</td>\n",
       "      <td>NaN</td>\n",
       "      <td>0</td>\n",
       "      <td>3</td>\n",
       "      <td>2010</td>\n",
       "      <td>WD</td>\n",
       "      <td>Normal</td>\n",
       "      <td>236500</td>\n",
       "    </tr>\n",
       "    <tr>\n",
       "      <th>9</th>\n",
       "      <td>9</td>\n",
       "      <td>10</td>\n",
       "      <td>527162130</td>\n",
       "      <td>60</td>\n",
       "      <td>RL</td>\n",
       "      <td>60.0</td>\n",
       "      <td>7500</td>\n",
       "      <td>Pave</td>\n",
       "      <td>NaN</td>\n",
       "      <td>Reg</td>\n",
       "      <td>...</td>\n",
       "      <td>0</td>\n",
       "      <td>NaN</td>\n",
       "      <td>NaN</td>\n",
       "      <td>NaN</td>\n",
       "      <td>0</td>\n",
       "      <td>6</td>\n",
       "      <td>2010</td>\n",
       "      <td>WD</td>\n",
       "      <td>Normal</td>\n",
       "      <td>189000</td>\n",
       "    </tr>\n",
       "  </tbody>\n",
       "</table>\n",
       "<p>10 rows × 83 columns</p>\n",
       "</div>"
      ],
      "text/plain": [
       "   Unnamed: 0  Order        PID  MS SubClass MS Zoning  Lot Frontage  \\\n",
       "0           0      1  526301100           20        RL         141.0   \n",
       "1           1      2  526350040           20        RH          80.0   \n",
       "2           2      3  526351010           20        RL          81.0   \n",
       "3           3      4  526353030           20        RL          93.0   \n",
       "4           4      5  527105010           60        RL          74.0   \n",
       "5           5      6  527105030           60        RL          78.0   \n",
       "6           6      7  527127150          120        RL          41.0   \n",
       "7           7      8  527145080          120        RL          43.0   \n",
       "8           8      9  527146030          120        RL          39.0   \n",
       "9           9     10  527162130           60        RL          60.0   \n",
       "\n",
       "   Lot Area Street Alley Lot Shape  ... Pool Area Pool QC  Fence Misc Feature  \\\n",
       "0     31770   Pave   NaN       IR1  ...         0     NaN    NaN          NaN   \n",
       "1     11622   Pave   NaN       Reg  ...         0     NaN  MnPrv          NaN   \n",
       "2     14267   Pave   NaN       IR1  ...         0     NaN    NaN         Gar2   \n",
       "3     11160   Pave   NaN       Reg  ...         0     NaN    NaN          NaN   \n",
       "4     13830   Pave   NaN       IR1  ...         0     NaN  MnPrv          NaN   \n",
       "5      9978   Pave   NaN       IR1  ...         0     NaN    NaN          NaN   \n",
       "6      4920   Pave   NaN       Reg  ...         0     NaN    NaN          NaN   \n",
       "7      5005   Pave   NaN       IR1  ...         0     NaN    NaN          NaN   \n",
       "8      5389   Pave   NaN       IR1  ...         0     NaN    NaN          NaN   \n",
       "9      7500   Pave   NaN       Reg  ...         0     NaN    NaN          NaN   \n",
       "\n",
       "  Misc Val Mo Sold Yr Sold Sale Type Sale Condition  SalePrice  \n",
       "0        0       5    2010       WD          Normal     215000  \n",
       "1        0       6    2010       WD          Normal     105000  \n",
       "2    12500       6    2010       WD          Normal     172000  \n",
       "3        0       4    2010       WD          Normal     244000  \n",
       "4        0       3    2010       WD          Normal     189900  \n",
       "5        0       6    2010       WD          Normal     195500  \n",
       "6        0       4    2010       WD          Normal     213500  \n",
       "7        0       1    2010       WD          Normal     191500  \n",
       "8        0       3    2010       WD          Normal     236500  \n",
       "9        0       6    2010       WD          Normal     189000  \n",
       "\n",
       "[10 rows x 83 columns]"
      ]
     },
     "execution_count": 2,
     "metadata": {},
     "output_type": "execute_result"
    }
   ],
   "source": [
    "house_prices = pd.read_csv(\"data/house_prices.csv\")\n",
    "house_prices.head(10)"
   ]
  },
  {
   "cell_type": "code",
   "execution_count": 3,
   "id": "2c964369-1b18-4c71-99c3-3add5d1b2e52",
   "metadata": {},
   "outputs": [],
   "source": [
    "house_prices.drop('Unnamed: 0', axis=1, inplace=True)\n",
    "house_prices.set_index('Order', inplace=True)\n",
    "\n",
    "# replace any incorrect misssings with actual NAN values\n",
    "house_prices = house_prices.replace(['NA', ''], np.NaN)"
   ]
  },
  {
   "cell_type": "code",
   "execution_count": 4,
   "id": "d64841f5-24ae-414e-abea-b902ff6158dd",
   "metadata": {},
   "outputs": [
    {
     "name": "stdout",
     "output_type": "stream",
     "text": [
      "<class 'pandas.core.frame.DataFrame'>\n",
      "Int64Index: 2930 entries, 1 to 2930\n",
      "Data columns (total 81 columns):\n",
      " #   Column           Non-Null Count  Dtype  \n",
      "---  ------           --------------  -----  \n",
      " 0   PID              2930 non-null   int64  \n",
      " 1   MS SubClass      2930 non-null   int64  \n",
      " 2   MS Zoning        2930 non-null   object \n",
      " 3   Lot Frontage     2440 non-null   float64\n",
      " 4   Lot Area         2930 non-null   int64  \n",
      " 5   Street           2930 non-null   object \n",
      " 6   Alley            198 non-null    object \n",
      " 7   Lot Shape        2930 non-null   object \n",
      " 8   Land Contour     2930 non-null   object \n",
      " 9   Utilities        2930 non-null   object \n",
      " 10  Lot Config       2930 non-null   object \n",
      " 11  Land Slope       2930 non-null   object \n",
      " 12  Neighborhood     2930 non-null   object \n",
      " 13  Condition 1      2930 non-null   object \n",
      " 14  Condition 2      2930 non-null   object \n",
      " 15  Bldg Type        2930 non-null   object \n",
      " 16  House Style      2930 non-null   object \n",
      " 17  Overall Qual     2930 non-null   int64  \n",
      " 18  Overall Cond     2930 non-null   int64  \n",
      " 19  Year Built       2930 non-null   int64  \n",
      " 20  Year Remod/Add   2930 non-null   int64  \n",
      " 21  Roof Style       2930 non-null   object \n",
      " 22  Roof Matl        2930 non-null   object \n",
      " 23  Exterior 1st     2930 non-null   object \n",
      " 24  Exterior 2nd     2930 non-null   object \n",
      " 25  Mas Vnr Type     2907 non-null   object \n",
      " 26  Mas Vnr Area     2907 non-null   float64\n",
      " 27  Exter Qual       2930 non-null   object \n",
      " 28  Exter Cond       2930 non-null   object \n",
      " 29  Foundation       2930 non-null   object \n",
      " 30  Bsmt Qual        2850 non-null   object \n",
      " 31  Bsmt Cond        2850 non-null   object \n",
      " 32  Bsmt Exposure    2847 non-null   object \n",
      " 33  BsmtFin Type 1   2850 non-null   object \n",
      " 34  BsmtFin SF 1     2929 non-null   float64\n",
      " 35  BsmtFin Type 2   2849 non-null   object \n",
      " 36  BsmtFin SF 2     2929 non-null   float64\n",
      " 37  Bsmt Unf SF      2929 non-null   float64\n",
      " 38  Total Bsmt SF    2929 non-null   float64\n",
      " 39  Heating          2930 non-null   object \n",
      " 40  Heating QC       2930 non-null   object \n",
      " 41  Central Air      2930 non-null   object \n",
      " 42  Electrical       2929 non-null   object \n",
      " 43  1st Flr SF       2930 non-null   int64  \n",
      " 44  2nd Flr SF       2930 non-null   int64  \n",
      " 45  Low Qual Fin SF  2930 non-null   int64  \n",
      " 46  Gr Liv Area      2930 non-null   int64  \n",
      " 47  Bsmt Full Bath   2928 non-null   float64\n",
      " 48  Bsmt Half Bath   2928 non-null   float64\n",
      " 49  Full Bath        2930 non-null   int64  \n",
      " 50  Half Bath        2930 non-null   int64  \n",
      " 51  Bedroom AbvGr    2930 non-null   int64  \n",
      " 52  Kitchen AbvGr    2930 non-null   int64  \n",
      " 53  Kitchen Qual     2930 non-null   object \n",
      " 54  TotRms AbvGrd    2930 non-null   int64  \n",
      " 55  Functional       2930 non-null   object \n",
      " 56  Fireplaces       2930 non-null   int64  \n",
      " 57  Fireplace Qu     1508 non-null   object \n",
      " 58  Garage Type      2773 non-null   object \n",
      " 59  Garage Yr Blt    2771 non-null   float64\n",
      " 60  Garage Finish    2771 non-null   object \n",
      " 61  Garage Cars      2929 non-null   float64\n",
      " 62  Garage Area      2929 non-null   float64\n",
      " 63  Garage Qual      2771 non-null   object \n",
      " 64  Garage Cond      2771 non-null   object \n",
      " 65  Paved Drive      2930 non-null   object \n",
      " 66  Wood Deck SF     2930 non-null   int64  \n",
      " 67  Open Porch SF    2930 non-null   int64  \n",
      " 68  Enclosed Porch   2930 non-null   int64  \n",
      " 69  3Ssn Porch       2930 non-null   int64  \n",
      " 70  Screen Porch     2930 non-null   int64  \n",
      " 71  Pool Area        2930 non-null   int64  \n",
      " 72  Pool QC          13 non-null     object \n",
      " 73  Fence            572 non-null    object \n",
      " 74  Misc Feature     106 non-null    object \n",
      " 75  Misc Val         2930 non-null   int64  \n",
      " 76  Mo Sold          2930 non-null   int64  \n",
      " 77  Yr Sold          2930 non-null   int64  \n",
      " 78  Sale Type        2930 non-null   object \n",
      " 79  Sale Condition   2930 non-null   object \n",
      " 80  SalePrice        2930 non-null   int64  \n",
      "dtypes: float64(11), int64(27), object(43)\n",
      "memory usage: 1.8+ MB\n"
     ]
    }
   ],
   "source": [
    "house_prices.info()"
   ]
  },
  {
   "cell_type": "code",
   "execution_count": 5,
   "id": "af1dd78a-5d3b-41eb-b851-1f89da013dba",
   "metadata": {},
   "outputs": [
    {
     "data": {
      "text/plain": [
       "<AxesSubplot:xlabel='Order'>"
      ]
     },
     "execution_count": 5,
     "metadata": {},
     "output_type": "execute_result"
    },
    {
     "data": {
      "image/png": "[encoded data removed]",
      "text/plain": [
       "<Figure size 864x576 with 2 Axes>"
      ]
     },
     "metadata": {
      "needs_background": "light"
     },
     "output_type": "display_data"
    }
   ],
   "source": [
    "#  visualise missing data\n",
    "\n",
    "plt.figure(figsize=(12,8))\n",
    "sns.heatmap(house_prices.isna().transpose(), cmap=\"viridis\")"
   ]
  },
  {
   "cell_type": "markdown",
   "id": "d079f25a-bdfb-41cf-be84-8ef0a4f0b943",
   "metadata": {},
   "source": [
    "Variables with a significant amount of values missing are: \n",
    "\n",
    "*  Alley\n",
    "*  Pool QC \n",
    "*  Fence\n",
    "*  Misc Feature\n",
    "\n",
    "As such they will removed from the dataset completely to prevent the replacement for missing values being substantially wrong."
   ]
  },
  {
   "cell_type": "code",
   "execution_count": 6,
   "id": "494cc957-a7c2-47fa-8243-3a05f5b19cdd",
   "metadata": {},
   "outputs": [],
   "source": [
    "house_prices.drop(['Alley', 'Pool QC', 'Misc Feature', 'Fence'], axis=1, inplace=True)"
   ]
  },
  {
   "cell_type": "markdown",
   "id": "e2879d87-e300-45a6-b5ac-3286e60b9228",
   "metadata": {},
   "source": [
    "MSZoning is a feature used to describe the type of sale i.e., agriculture, commerical, industrial or residential\n",
    "\n",
    "As our regression model will focus on residential sales all other transactions will be dropped from our dataset."
   ]
  },
  {
   "cell_type": "code",
   "execution_count": 7,
   "id": "f791fd98-0a00-4b30-946a-833870aa536c",
   "metadata": {},
   "outputs": [
    {
     "data": {
      "text/plain": [
       "RL         2273\n",
       "RM          462\n",
       "FV          139\n",
       "RH           27\n",
       "C (all)      25\n",
       "I (all)       2\n",
       "A (agr)       2\n",
       "Name: MS Zoning, dtype: int64"
      ]
     },
     "execution_count": 7,
     "metadata": {},
     "output_type": "execute_result"
    }
   ],
   "source": [
    "house_prices['MS Zoning'].value_counts()"
   ]
  },
  {
   "cell_type": "code",
   "execution_count": 8,
   "id": "916df1c5-e680-46c2-8dc4-31600fd510f0",
   "metadata": {},
   "outputs": [],
   "source": [
    "house_prices = house_prices[(house_prices['MS Zoning'] != 'C (all)') & (house_prices['MS Zoning'] != 'I (all)') & (house_prices['MS Zoning'] != 'A (agr)')]"
   ]
  },
  {
   "cell_type": "markdown",
   "id": "915949a1-52de-4eb6-a198-5133a3903a36",
   "metadata": {},
   "source": [
    "#### Going from top to bottom of missing values based on house_prices.info() above:"
   ]
  },
  {
   "cell_type": "code",
   "execution_count": 9,
   "id": "fcbbb162-e696-47c2-88c5-7dfda5291b27",
   "metadata": {},
   "outputs": [
    {
     "data": {
      "text/html": [
       "<div>\n",
       "<style scoped>\n",
       "    .dataframe tbody tr th:only-of-type {\n",
       "        vertical-align: middle;\n",
       "    }\n",
       "\n",
       "    .dataframe tbody tr th {\n",
       "        vertical-align: top;\n",
       "    }\n",
       "\n",
       "    .dataframe thead th {\n",
       "        text-align: right;\n",
       "    }\n",
       "</style>\n",
       "<table border=\"1\" class=\"dataframe\">\n",
       "  <thead>\n",
       "    <tr style=\"text-align: right;\">\n",
       "      <th></th>\n",
       "      <th>Lot Frontage</th>\n",
       "      <th>Lot Area</th>\n",
       "    </tr>\n",
       "    <tr>\n",
       "      <th>Lot Shape</th>\n",
       "      <th></th>\n",
       "      <th></th>\n",
       "    </tr>\n",
       "  </thead>\n",
       "  <tbody>\n",
       "    <tr>\n",
       "      <th>IR1</th>\n",
       "      <td>74.768760</td>\n",
       "      <td>11506.414959</td>\n",
       "    </tr>\n",
       "    <tr>\n",
       "      <th>IR2</th>\n",
       "      <td>67.437500</td>\n",
       "      <td>18913.065789</td>\n",
       "    </tr>\n",
       "    <tr>\n",
       "      <th>IR3</th>\n",
       "      <td>117.636364</td>\n",
       "      <td>32064.187500</td>\n",
       "    </tr>\n",
       "    <tr>\n",
       "      <th>Reg</th>\n",
       "      <td>66.821387</td>\n",
       "      <td>8849.153301</td>\n",
       "    </tr>\n",
       "  </tbody>\n",
       "</table>\n",
       "</div>"
      ],
      "text/plain": [
       "           Lot Frontage      Lot Area\n",
       "Lot Shape                            \n",
       "IR1           74.768760  11506.414959\n",
       "IR2           67.437500  18913.065789\n",
       "IR3          117.636364  32064.187500\n",
       "Reg           66.821387   8849.153301"
      ]
     },
     "execution_count": 9,
     "metadata": {},
     "output_type": "execute_result"
    }
   ],
   "source": [
    "house_prices[['Lot Frontage', 'Lot Area', 'Lot Shape']].groupby('Lot Shape').mean()"
   ]
  },
  {
   "cell_type": "code",
   "execution_count": 10,
   "id": "b8748c7b-acc0-4d46-8f27-e37bd476442b",
   "metadata": {},
   "outputs": [
    {
     "name": "stdout",
     "output_type": "stream",
     "text": [
      "AxesSubplot(0.125,0.125;0.775x0.755)\n"
     ]
    },
    {
     "data": {
      "image/png": "[encoded data removed]",
      "text/plain": [
       "<Figure size 576x432 with 1 Axes>"
      ]
     },
     "metadata": {
      "needs_background": "light"
     },
     "output_type": "display_data"
    }
   ],
   "source": [
    "plt.figure(figsize=(8,6))\n",
    "print(sns.boxplot(y=house_prices['Lot Frontage'],x=house_prices['Lot Shape'], palette=\"viridis\"))"
   ]
  },
  {
   "cell_type": "code",
   "execution_count": 11,
   "id": "439a908c-802b-4fee-ac43-b39a896162e3",
   "metadata": {},
   "outputs": [],
   "source": [
    "#  Clearly the lot footage and area is dependent on the lot shape, hence, for lot footage,\n",
    "#  we will replace missing values with the average grouped by the lot shape. \n",
    "\n",
    "def replace_lot_frontage(cols):\n",
    "    lot_frontage = cols[0]\n",
    "    lot_shape = cols[1]\n",
    "    \n",
    "    if pd.isnull(lot_frontage):\n",
    "        \n",
    "        if lot_shape == 'IR1':\n",
    "            return 74.81\n",
    "        elif lot_shape == 'IR2':\n",
    "            return 67.44\n",
    "        elif lot_shape == 'IR3':\n",
    "            return 117.64\n",
    "        elif lot_shape == 'Reg':\n",
    "            return 66.85\n",
    "    # else      \n",
    "    return lot_frontage\n",
    "\n",
    "house_prices['Lot Frontage'] = house_prices[['Lot Frontage', 'Lot Shape']].apply(replace_lot_frontage, axis=1)"
   ]
  },
  {
   "cell_type": "markdown",
   "id": "537e7d91-422c-4fec-ae75-6a244e5c0fc2",
   "metadata": {},
   "source": [
    "The next two variables with missing values are Mas Vnr Type (masonry veneer type) and Mas Vnr Area. In this case the missing values are in the exact same positions, and as None is a real value for masonry veneer type, we will assume that the missings are in fact equal to none too. This is a fair assumption on the basis that most residential sales do not have a masonry veneer.\n",
    "\n",
    "Action: replace all nulls for mas vnr type with the most frequent value, 'None', then for mas vnr area take the average value for mas vnr type where it is equal to 'None'.\n",
    "\n",
    "Some analysis below to support the above action:"
   ]
  },
  {
   "cell_type": "code",
   "execution_count": 12,
   "id": "68544db7-617a-4e3f-810f-82f833f54b71",
   "metadata": {},
   "outputs": [
    {
     "data": {
      "text/plain": [
       "None       1723\n",
       "BrkFace     880\n",
       "Stone       249\n",
       "BrkCmn       25\n",
       "CBlock        1\n",
       "Name: Mas Vnr Type, dtype: int64"
      ]
     },
     "execution_count": 12,
     "metadata": {},
     "output_type": "execute_result"
    }
   ],
   "source": [
    "house_prices['Mas Vnr Type'].value_counts()"
   ]
  },
  {
   "cell_type": "code",
   "execution_count": 13,
   "id": "aed0ba0a-165e-4360-9d0f-f04d4bbd294a",
   "metadata": {},
   "outputs": [
    {
     "data": {
      "text/plain": [
       "23"
      ]
     },
     "execution_count": 13,
     "metadata": {},
     "output_type": "execute_result"
    }
   ],
   "source": [
    "# return the number of rows missing\n",
    "house_prices[(house_prices['Mas Vnr Type'].isnull()) & (house_prices['Mas Vnr Area'].isnull())].shape[0]"
   ]
  },
  {
   "cell_type": "markdown",
   "id": "240f9c3b-e60d-43ed-828a-bbf33e81fa36",
   "metadata": {},
   "source": [
    "23 + 1,878 (non nulls as per house_prices.info() above) = 1,901 \n",
    "\n",
    "Hence missing values for both variables are in the exactly same place. Moreover this is 1% of the total dataset so any change will need a have a huge impact on the final model outcome."
   ]
  },
  {
   "cell_type": "code",
   "execution_count": 14,
   "id": "624691fe-558b-4b79-92cb-2b42092c60bc",
   "metadata": {},
   "outputs": [],
   "source": [
    "house_prices['Mas Vnr Type'].fillna('None', inplace=True)"
   ]
  },
  {
   "cell_type": "code",
   "execution_count": 15,
   "id": "86edb571-b45c-43b5-987e-f64675e165e8",
   "metadata": {},
   "outputs": [
    {
     "data": {
      "text/plain": [
       "0.7150319210679048"
      ]
     },
     "execution_count": 15,
     "metadata": {},
     "output_type": "execute_result"
    }
   ],
   "source": [
    "#  get the mean of mas vnr type\n",
    "house_prices[house_prices['Mas Vnr Type'] == 'None']['Mas Vnr Area'].mean()"
   ]
  },
  {
   "cell_type": "code",
   "execution_count": 16,
   "id": "10c9b173-cf29-4803-9642-e4f5b0f23815",
   "metadata": {},
   "outputs": [],
   "source": [
    "# replace missings in mas vnr area with the above\n",
    "house_prices['Mas Vnr Area'].fillna(0.715, inplace=True)"
   ]
  },
  {
   "cell_type": "markdown",
   "id": "726d20cb-e4e8-4f30-af5e-20762b1f2d09",
   "metadata": {},
   "source": [
    "The remaining variables with missing values are categorical and as per the description.txt, we know these missing values show the feature does *not* exist and is not in fact a missing value due to an input error. The numerical variables linked with this categorical variable are not missing and as such as we do not need to perform any engineering for now. Evidence to support this:"
   ]
  },
  {
   "cell_type": "code",
   "execution_count": 17,
   "id": "641ebd1f-a30a-494a-9828-690ee0e1e070",
   "metadata": {},
   "outputs": [
    {
     "data": {
      "text/plain": [
       "BsmtFin SF 1\n",
       "0.0             75\n",
       "dtype: int64"
      ]
     },
     "execution_count": 17,
     "metadata": {},
     "output_type": "execute_result"
    }
   ],
   "source": [
    "#  bsmt qual is null means no basement, hence area is obviously 0 as shown\n",
    "house_prices[house_prices['Bsmt Qual'].isnull()][['BsmtFin SF 1']].value_counts()"
   ]
  },
  {
   "cell_type": "code",
   "execution_count": 18,
   "id": "886d07d4-556f-423a-ac90-be498f45880d",
   "metadata": {},
   "outputs": [
    {
     "data": {
      "text/plain": [
       "Garage Area\n",
       "0.0            147\n",
       "360.0            1\n",
       "dtype: int64"
      ]
     },
     "execution_count": 18,
     "metadata": {},
     "output_type": "execute_result"
    }
   ],
   "source": [
    "# the same can be shown for garage quality i.e., null values mean no garage area\n",
    "house_prices[house_prices['Garage Qual'].isnull()][['Garage Area']].value_counts()"
   ]
  },
  {
   "cell_type": "markdown",
   "id": "022cb403-aa61-4cdd-b18c-1c460d51c1dd",
   "metadata": {},
   "source": [
    "### Searching for outliers \n",
    "\n",
    "Here we'll focus our attention on the target variable plus variables displaying the size and area of the property, which will clearly have one of the largest impacst on the sale price. Values +- 3 standard deviations from the mean are considered to be outliers and hence will be dropped from the dataset."
   ]
  },
  {
   "cell_type": "code",
   "execution_count": 19,
   "id": "8a30791b-c8e4-4851-b282-7c1b8627a908",
   "metadata": {},
   "outputs": [
    {
     "data": {
      "text/plain": [
       "<AxesSubplot:xlabel='SalePrice', ylabel='Count'>"
      ]
     },
     "execution_count": 19,
     "metadata": {},
     "output_type": "execute_result"
    },
    {
     "data": {
      "image/png": "[encoded data removed]",
      "text/plain": [
       "<Figure size 720x360 with 1 Axes>"
      ]
     },
     "metadata": {
      "needs_background": "light"
     },
     "output_type": "display_data"
    }
   ],
   "source": [
    "# as per the below the target is clearly non-gaussian as a result of the positive skewness. Keeping the high outliers in our dataset will likely skew the predictions on the positive side leading \n",
    "# to overestimated property prices.\n",
    "fig, ax = plt.subplots(figsize=(10,5))\n",
    "sns.histplot(x=house_prices.SalePrice, ax=ax)"
   ]
  },
  {
   "cell_type": "code",
   "execution_count": 20,
   "id": "337f4212-b126-420c-b08e-f8d20ca81eea",
   "metadata": {},
   "outputs": [
    {
     "data": {
      "text/plain": [
       "45"
      ]
     },
     "execution_count": 20,
     "metadata": {},
     "output_type": "execute_result"
    }
   ],
   "source": [
    "# 45 sale prices greater than 3 standard deviations of the mean.\n",
    "house_prices.SalePrice[(house_prices.SalePrice > np.mean(house_prices.SalePrice) + 3 * np.std(house_prices.SalePrice))].count()"
   ]
  },
  {
   "cell_type": "code",
   "execution_count": 21,
   "id": "8a5b87ac-1cb5-4ebc-9aa2-ccc9789c226a",
   "metadata": {},
   "outputs": [
    {
     "data": {
      "text/plain": [
       "0"
      ]
     },
     "execution_count": 21,
     "metadata": {},
     "output_type": "execute_result"
    }
   ],
   "source": [
    "# 0 sale prices less than 3 standard deviations from the mean.\n",
    "house_prices.SalePrice[(house_prices.SalePrice < np.mean(house_prices.SalePrice) - 3 * np.std(house_prices.SalePrice))].count()"
   ]
  },
  {
   "cell_type": "code",
   "execution_count": 22,
   "id": "6155635c-a814-4736-a721-f7299d056bf1",
   "metadata": {},
   "outputs": [
    {
     "data": {
      "text/plain": [
       "<AxesSubplot:xlabel='Gr Liv Area', ylabel='Count'>"
      ]
     },
     "execution_count": 22,
     "metadata": {},
     "output_type": "execute_result"
    },
    {
     "data": {
      "image/png": "[encoded data removed]",
      "text/plain": [
       "<Figure size 720x360 with 1 Axes>"
      ]
     },
     "metadata": {
      "needs_background": "light"
     },
     "output_type": "display_data"
    }
   ],
   "source": [
    "# similarly to sale prices, ground living area is also not normally distributed as a result of the positive skewness. Note that variables 1st & 2nd floor square feet are just the sum of the \n",
    "# ground living area hence they do not need to be analysed independently for outliers.\n",
    "fig, ax = plt.subplots(figsize=(10,5))\n",
    "sns.histplot(house_prices['Gr Liv Area'], ax=ax)"
   ]
  },
  {
   "cell_type": "code",
   "execution_count": 23,
   "id": "ad8413aa-66c1-4de1-98df-3328a549f2c0",
   "metadata": {},
   "outputs": [
    {
     "data": {
      "text/plain": [
       "25"
      ]
     },
     "execution_count": 23,
     "metadata": {},
     "output_type": "execute_result"
    }
   ],
   "source": [
    "# 25 rows where ground living area is greater than 3 standard deviations above the mean\n",
    "house_prices['Gr Liv Area'][(house_prices['Gr Liv Area'] > np.mean(house_prices['Gr Liv Area']) + 3 * np.std(house_prices['Gr Liv Area']))].count()"
   ]
  },
  {
   "cell_type": "code",
   "execution_count": 24,
   "id": "03cb54dc-68ca-4394-9b9a-5c2d45675b01",
   "metadata": {},
   "outputs": [
    {
     "data": {
      "text/plain": [
       "0"
      ]
     },
     "execution_count": 24,
     "metadata": {},
     "output_type": "execute_result"
    }
   ],
   "source": [
    "# and 0 in the opposite direction\n",
    "house_prices['Gr Liv Area'][(house_prices['Gr Liv Area'] < np.mean(house_prices['Gr Liv Area']) - 3 * np.std(house_prices['Gr Liv Area']))].count()"
   ]
  },
  {
   "cell_type": "code",
   "execution_count": 25,
   "id": "79d58931-658f-4ac7-b430-d61cb9021aed",
   "metadata": {},
   "outputs": [],
   "source": [
    "# dropping houses where sale prices above 3 stds from the mean, as per the above\n",
    "df = house_prices[house_prices.SalePrice < (np.mean(house_prices.SalePrice) + 3*np.std(house_prices.SalePrice))]"
   ]
  },
  {
   "cell_type": "code",
   "execution_count": 26,
   "id": "395e36b5-6789-4a12-9eaa-22b71228a618",
   "metadata": {},
   "outputs": [],
   "source": [
    "# dropping houses where ground living area is above 3 stds from the mean\n",
    "df = df[(df['Gr Liv Area'] < (np.mean(df['Gr Liv Area']) + 3 * np.std(df['Gr Liv Area'])))]"
   ]
  },
  {
   "cell_type": "markdown",
   "id": "2d0d552d-c319-4557-89e2-c0ee5307efb3",
   "metadata": {},
   "source": [
    "65 rows were removed as a result of the above, amounting to approximately 2.24% of the total dataset.\n",
    "\n",
    "As displayed below, while data is still skewed, removing the outliers has made the distributions closer to that of a bell-curve. The implication here is that model predictions will be more accurate with less variance, also shown below. \n",
    "\n",
    "However, a noteworthy consequence of dropping the high sale price values is that the model has reduced its range in which to make predictions, hence, for high-valued properties the model we select will most likely be inaccurate."
   ]
  },
  {
   "cell_type": "code",
   "execution_count": 27,
   "id": "7875cfca-c471-48d7-bee7-92b668751d46",
   "metadata": {},
   "outputs": [
    {
     "data": {
      "image/png": "[encoded data removed]",
      "text/plain": [
       "<Figure size 720x360 with 1 Axes>"
      ]
     },
     "metadata": {
      "needs_background": "light"
     },
     "output_type": "display_data"
    },
    {
     "data": {
      "image/png": "[encoded data removed]",
      "text/plain": [
       "<Figure size 720x360 with 1 Axes>"
      ]
     },
     "metadata": {
      "needs_background": "light"
     },
     "output_type": "display_data"
    }
   ],
   "source": [
    "fig, ax = plt.subplots(figsize=(10,5))\n",
    "sns.histplot(df['SalePrice'], ax=ax)\n",
    "\n",
    "fig, ax = plt.subplots(figsize=(10,5))\n",
    "sns.histplot(df['Gr Liv Area'], ax=ax)\n",
    "plt.show()"
   ]
  },
  {
   "cell_type": "code",
   "execution_count": 28,
   "id": "099a60b5-c9bf-41d1-ae03-9fbf585fe17a",
   "metadata": {},
   "outputs": [
    {
     "data": {
      "image/png": "[encoded data removed]",
      "text/plain": [
       "<Figure size 720x360 with 1 Axes>"
      ]
     },
     "metadata": {
      "needs_background": "light"
     },
     "output_type": "display_data"
    },
    {
     "data": {
      "image/png": "[encoded data removed]",
      "text/plain": [
       "<Figure size 720x360 with 1 Axes>"
      ]
     },
     "metadata": {
      "needs_background": "light"
     },
     "output_type": "display_data"
    }
   ],
   "source": [
    "fig, ax = plt.subplots(figsize=(10,5))\n",
    "sns.regplot(data=house_prices, x=\"Gr Liv Area\", y='SalePrice', ax=ax)\n",
    "plt.title(\"Before Removing Outliers\")\n",
    "\n",
    "fig, ax = plt.subplots(figsize=(10,5))\n",
    "sns.regplot(data=df, x=\"Gr Liv Area\", y='SalePrice', ax=ax)\n",
    "plt.title(\"After Removing Outliers\")\n",
    "plt.show()"
   ]
  },
  {
   "cell_type": "markdown",
   "id": "11f4cb28-deae-481e-b4ee-425d6314e604",
   "metadata": {},
   "source": [
    "#### Sale Condition variable:\n",
    "\n",
    "As per the description there is also a variable named sale condition which describes the condition under which the sale was completed. Interestingly when grouped separately these sales deviate from the measures of central tendency of properties sold under normal conditions:"
   ]
  },
  {
   "cell_type": "code",
   "execution_count": 29,
   "id": "c9099026-b8f0-4d27-acff-25999c2e876f",
   "metadata": {},
   "outputs": [
    {
     "data": {
      "text/plain": [
       "Normal     2364\n",
       "Partial     221\n",
       "Abnorml     174\n",
       "Family       44\n",
       "Alloca       21\n",
       "AdjLand      12\n",
       "Name: Sale Condition, dtype: int64"
      ]
     },
     "execution_count": 29,
     "metadata": {},
     "output_type": "execute_result"
    }
   ],
   "source": [
    "df['Sale Condition'].value_counts()"
   ]
  },
  {
   "cell_type": "code",
   "execution_count": 30,
   "id": "2d48ff50-ad2b-4dab-914a-2ca44dec3c7d",
   "metadata": {},
   "outputs": [
    {
     "data": {
      "text/html": [
       "<div>\n",
       "<style scoped>\n",
       "    .dataframe tbody tr th:only-of-type {\n",
       "        vertical-align: middle;\n",
       "    }\n",
       "\n",
       "    .dataframe tbody tr th {\n",
       "        vertical-align: top;\n",
       "    }\n",
       "\n",
       "    .dataframe thead th {\n",
       "        text-align: right;\n",
       "    }\n",
       "</style>\n",
       "<table border=\"1\" class=\"dataframe\">\n",
       "  <thead>\n",
       "    <tr style=\"text-align: right;\">\n",
       "      <th></th>\n",
       "      <th>SalePrice</th>\n",
       "    </tr>\n",
       "    <tr>\n",
       "      <th>Sale Condition</th>\n",
       "      <th></th>\n",
       "    </tr>\n",
       "  </thead>\n",
       "  <tbody>\n",
       "    <tr>\n",
       "      <th>Abnorml</th>\n",
       "      <td>136119.212644</td>\n",
       "    </tr>\n",
       "    <tr>\n",
       "      <th>AdjLand</th>\n",
       "      <td>108916.666667</td>\n",
       "    </tr>\n",
       "    <tr>\n",
       "      <th>Alloca</th>\n",
       "      <td>162810.380952</td>\n",
       "    </tr>\n",
       "    <tr>\n",
       "      <th>Family</th>\n",
       "      <td>154383.522727</td>\n",
       "    </tr>\n",
       "    <tr>\n",
       "      <th>Normal</th>\n",
       "      <td>172528.434433</td>\n",
       "    </tr>\n",
       "    <tr>\n",
       "      <th>Partial</th>\n",
       "      <td>254089.384615</td>\n",
       "    </tr>\n",
       "  </tbody>\n",
       "</table>\n",
       "</div>"
      ],
      "text/plain": [
       "                    SalePrice\n",
       "Sale Condition               \n",
       "Abnorml         136119.212644\n",
       "AdjLand         108916.666667\n",
       "Alloca          162810.380952\n",
       "Family          154383.522727\n",
       "Normal          172528.434433\n",
       "Partial         254089.384615"
      ]
     },
     "execution_count": 30,
     "metadata": {},
     "output_type": "execute_result"
    }
   ],
   "source": [
    "df[['SalePrice', 'Sale Condition']].groupby('Sale Condition').mean()"
   ]
  },
  {
   "cell_type": "code",
   "execution_count": 31,
   "id": "68962d5d-3640-4c38-b923-a1ad156b6b5a",
   "metadata": {},
   "outputs": [
    {
     "data": {
      "text/plain": [
       "<AxesSubplot:xlabel='Sale Condition', ylabel='SalePrice'>"
      ]
     },
     "execution_count": 31,
     "metadata": {},
     "output_type": "execute_result"
    },
    {
     "data": {
      "image/png": "[encoded data removed]",
      "text/plain": [
       "<Figure size 1080x576 with 1 Axes>"
      ]
     },
     "metadata": {
      "needs_background": "light"
     },
     "output_type": "display_data"
    }
   ],
   "source": [
    "plt.figure(figsize=(15,8))\n",
    "sns.boxplot(x=df['Sale Condition'], y=df['SalePrice'])"
   ]
  },
  {
   "cell_type": "code",
   "execution_count": 32,
   "id": "5a518da3-1e1b-44bc-9247-b9c7669e82a4",
   "metadata": {},
   "outputs": [
    {
     "name": "stdout",
     "output_type": "stream",
     "text": [
      "Data size (%):  8.110014104372356\n"
     ]
    }
   ],
   "source": [
    "print(\"Data size (%): \" , df[df['Sale Condition'].isin(['Abnorml', 'Family', 'AdjLand'])]['Sale Condition'].count() / df.shape[0] * 100)"
   ]
  },
  {
   "cell_type": "markdown",
   "id": "68d57c0f-c4ab-4665-9b9e-24f3260c5574",
   "metadata": {},
   "source": [
    "It is clear that houses sold under the condition of family, abnormal or adjoining land purchase have sale prices significantly less than those sold under normal conditions. Hence, running these values through the model is likely to introduce bias. For example, houses sold between family members could have been sold for less than market value which may explain the average sale-price being less. This applies to abnormal conditions (trade, foreclosure or short sale) and adjoining land purchases too.\n",
    "\n",
    "While removing 8% of the dataset is significant, we want our model to predict house prices that reflect *true* market and economic conditions. Consequently, these sales will be dropped from our dataset.\n",
    "\n",
    "Note that partial sales refers to the sale of *new* properties which explains their high sale prices."
   ]
  },
  {
   "cell_type": "code",
   "execution_count": 33,
   "id": "dad95a1c-1673-4592-9a4b-885844500e8a",
   "metadata": {},
   "outputs": [],
   "source": [
    "df = df[~df['Sale Condition'].isin(['Abnorml', 'Family', 'AdjLand'])]"
   ]
  },
  {
   "cell_type": "markdown",
   "id": "19fb43ef-f138-4547-a554-a9a652781699",
   "metadata": {},
   "source": [
    "**As a result of our above data cleaning, approximately 10% of all data has been removed.**\n",
    "\n",
    "### Feature Engineering:"
   ]
  },
  {
   "cell_type": "code",
   "execution_count": 34,
   "id": "3f03d5f9-3868-45d1-a4dd-3f21f602dd56",
   "metadata": {},
   "outputs": [],
   "source": [
    "# simplify year built into age variable\n",
    "df['Age'] = df['Year Built'].apply(lambda x: 2022-x)"
   ]
  },
  {
   "cell_type": "code",
   "execution_count": 35,
   "id": "238d5fae-f026-414c-ad37-c823eae9debd",
   "metadata": {},
   "outputs": [
    {
     "data": {
      "text/plain": [
       "<seaborn.axisgrid.FacetGrid at 0x12755b910>"
      ]
     },
     "execution_count": 35,
     "metadata": {},
     "output_type": "execute_result"
    },
    {
     "data": {
      "image/png": "[encoded data removed]",
      "text/plain": [
       "<Figure size 360x360 with 1 Axes>"
      ]
     },
     "metadata": {
      "needs_background": "light"
     },
     "output_type": "display_data"
    }
   ],
   "source": [
    "sns.lmplot(data=df, x='Age', y='SalePrice')"
   ]
  },
  {
   "cell_type": "markdown",
   "id": "3b2845d5-0ba0-476a-b695-d2e5b33a8118",
   "metadata": {},
   "source": [
    "Age is clearly negatively correlated with the price of property i.e., the newer the property the higher its price."
   ]
  },
  {
   "cell_type": "code",
   "execution_count": 36,
   "id": "b1130f68-8d67-4f01-b667-ca0f1a831171",
   "metadata": {},
   "outputs": [
    {
     "data": {
      "text/html": [
       "<div>\n",
       "<style scoped>\n",
       "    .dataframe tbody tr th:only-of-type {\n",
       "        vertical-align: middle;\n",
       "    }\n",
       "\n",
       "    .dataframe tbody tr th {\n",
       "        vertical-align: top;\n",
       "    }\n",
       "\n",
       "    .dataframe thead th {\n",
       "        text-align: right;\n",
       "    }\n",
       "</style>\n",
       "<table border=\"1\" class=\"dataframe\">\n",
       "  <thead>\n",
       "    <tr style=\"text-align: right;\">\n",
       "      <th></th>\n",
       "      <th>SalePrice</th>\n",
       "    </tr>\n",
       "    <tr>\n",
       "      <th>Neighborhood</th>\n",
       "      <th></th>\n",
       "    </tr>\n",
       "  </thead>\n",
       "  <tbody>\n",
       "    <tr>\n",
       "      <th>NoRidge</th>\n",
       "      <td>302810.966667</td>\n",
       "    </tr>\n",
       "    <tr>\n",
       "      <th>NridgHt</th>\n",
       "      <td>293799.936170</td>\n",
       "    </tr>\n",
       "    <tr>\n",
       "      <th>GrnHill</th>\n",
       "      <td>280000.000000</td>\n",
       "    </tr>\n",
       "    <tr>\n",
       "      <th>StoneBr</th>\n",
       "      <td>277356.512821</td>\n",
       "    </tr>\n",
       "    <tr>\n",
       "      <th>Veenker</th>\n",
       "      <td>255865.909091</td>\n",
       "    </tr>\n",
       "    <tr>\n",
       "      <th>Timber</th>\n",
       "      <td>247174.134328</td>\n",
       "    </tr>\n",
       "    <tr>\n",
       "      <th>Somerst</th>\n",
       "      <td>228095.529070</td>\n",
       "    </tr>\n",
       "    <tr>\n",
       "      <th>ClearCr</th>\n",
       "      <td>215045.578947</td>\n",
       "    </tr>\n",
       "    <tr>\n",
       "      <th>Crawfor</th>\n",
       "      <td>205801.446809</td>\n",
       "    </tr>\n",
       "    <tr>\n",
       "      <th>CollgCr</th>\n",
       "      <td>200680.747082</td>\n",
       "    </tr>\n",
       "    <tr>\n",
       "      <th>Blmngtn</th>\n",
       "      <td>196661.678571</td>\n",
       "    </tr>\n",
       "    <tr>\n",
       "      <th>Greens</th>\n",
       "      <td>193531.250000</td>\n",
       "    </tr>\n",
       "    <tr>\n",
       "      <th>NWAmes</th>\n",
       "      <td>192515.427350</td>\n",
       "    </tr>\n",
       "    <tr>\n",
       "      <th>Gilbert</th>\n",
       "      <td>190637.246835</td>\n",
       "    </tr>\n",
       "    <tr>\n",
       "      <th>SawyerW</th>\n",
       "      <td>182134.516949</td>\n",
       "    </tr>\n",
       "    <tr>\n",
       "      <th>Mitchel</th>\n",
       "      <td>165307.281553</td>\n",
       "    </tr>\n",
       "    <tr>\n",
       "      <th>NAmes</th>\n",
       "      <td>145536.394937</td>\n",
       "    </tr>\n",
       "    <tr>\n",
       "      <th>Blueste</th>\n",
       "      <td>143590.000000</td>\n",
       "    </tr>\n",
       "    <tr>\n",
       "      <th>NPkVill</th>\n",
       "      <td>140743.181818</td>\n",
       "    </tr>\n",
       "    <tr>\n",
       "      <th>Landmrk</th>\n",
       "      <td>137000.000000</td>\n",
       "    </tr>\n",
       "    <tr>\n",
       "      <th>Sawyer</th>\n",
       "      <td>136679.620438</td>\n",
       "    </tr>\n",
       "    <tr>\n",
       "      <th>Edwards</th>\n",
       "      <td>131364.687500</td>\n",
       "    </tr>\n",
       "    <tr>\n",
       "      <th>SWISU</th>\n",
       "      <td>130865.384615</td>\n",
       "    </tr>\n",
       "    <tr>\n",
       "      <th>BrkSide</th>\n",
       "      <td>126674.234694</td>\n",
       "    </tr>\n",
       "    <tr>\n",
       "      <th>OldTown</th>\n",
       "      <td>125347.024510</td>\n",
       "    </tr>\n",
       "    <tr>\n",
       "      <th>IDOTRR</th>\n",
       "      <td>118824.785714</td>\n",
       "    </tr>\n",
       "    <tr>\n",
       "      <th>BrDale</th>\n",
       "      <td>107359.615385</td>\n",
       "    </tr>\n",
       "    <tr>\n",
       "      <th>MeadowV</th>\n",
       "      <td>96836.470588</td>\n",
       "    </tr>\n",
       "  </tbody>\n",
       "</table>\n",
       "</div>"
      ],
      "text/plain": [
       "                  SalePrice\n",
       "Neighborhood               \n",
       "NoRidge       302810.966667\n",
       "NridgHt       293799.936170\n",
       "GrnHill       280000.000000\n",
       "StoneBr       277356.512821\n",
       "Veenker       255865.909091\n",
       "Timber        247174.134328\n",
       "Somerst       228095.529070\n",
       "ClearCr       215045.578947\n",
       "Crawfor       205801.446809\n",
       "CollgCr       200680.747082\n",
       "Blmngtn       196661.678571\n",
       "Greens        193531.250000\n",
       "NWAmes        192515.427350\n",
       "Gilbert       190637.246835\n",
       "SawyerW       182134.516949\n",
       "Mitchel       165307.281553\n",
       "NAmes         145536.394937\n",
       "Blueste       143590.000000\n",
       "NPkVill       140743.181818\n",
       "Landmrk       137000.000000\n",
       "Sawyer        136679.620438\n",
       "Edwards       131364.687500\n",
       "SWISU         130865.384615\n",
       "BrkSide       126674.234694\n",
       "OldTown       125347.024510\n",
       "IDOTRR        118824.785714\n",
       "BrDale        107359.615385\n",
       "MeadowV        96836.470588"
      ]
     },
     "execution_count": 36,
     "metadata": {},
     "output_type": "execute_result"
    }
   ],
   "source": [
    "# analysing the neighborhood variable, likely to have a large impact on the sale price\n",
    "df[['SalePrice', 'Neighborhood']].groupby('Neighborhood').mean().sort_values(by='SalePrice', ascending=False)"
   ]
  },
  {
   "cell_type": "code",
   "execution_count": 37,
   "id": "2eedd16c-5cf9-4cfe-b101-caaff2ac749e",
   "metadata": {},
   "outputs": [
    {
     "data": {
      "text/plain": [
       "NAmes      395\n",
       "CollgCr    257\n",
       "OldTown    204\n",
       "Somerst    172\n",
       "Edwards    160\n",
       "Gilbert    158\n",
       "NridgHt    141\n",
       "Sawyer     137\n",
       "SawyerW    118\n",
       "NWAmes     117\n",
       "Mitchel    103\n",
       "BrkSide     98\n",
       "Crawfor     94\n",
       "Timber      67\n",
       "NoRidge     60\n",
       "IDOTRR      56\n",
       "SWISU       39\n",
       "StoneBr     39\n",
       "ClearCr     38\n",
       "MeadowV     34\n",
       "Blmngtn     28\n",
       "BrDale      26\n",
       "NPkVill     22\n",
       "Veenker     22\n",
       "Blueste     10\n",
       "Greens       8\n",
       "GrnHill      2\n",
       "Landmrk      1\n",
       "Name: Neighborhood, dtype: int64"
      ]
     },
     "execution_count": 37,
     "metadata": {},
     "output_type": "execute_result"
    }
   ],
   "source": [
    "df.Neighborhood.value_counts()"
   ]
  },
  {
   "cell_type": "code",
   "execution_count": 38,
   "id": "7006478e-0c35-48fb-9a47-5f041c892426",
   "metadata": {},
   "outputs": [
    {
     "data": {
      "text/plain": [
       "<AxesSubplot:xlabel='Neighborhood', ylabel='SalePrice'>"
      ]
     },
     "execution_count": 38,
     "metadata": {},
     "output_type": "execute_result"
    },
    {
     "data": {
      "image/png": "[encoded data removed]",
      "text/plain": [
       "<Figure size 1512x432 with 1 Axes>"
      ]
     },
     "metadata": {
      "needs_background": "light"
     },
     "output_type": "display_data"
    }
   ],
   "source": [
    "plt.figure(figsize=(21,6))\n",
    "sns.boxplot(x=df.Neighborhood, y=df.SalePrice)"
   ]
  },
  {
   "cell_type": "code",
   "execution_count": 39,
   "id": "aa9cd158-a5ce-4bd0-85de-cef2b27a74e5",
   "metadata": {},
   "outputs": [
    {
     "data": {
      "text/plain": [
       "28"
      ]
     },
     "execution_count": 39,
     "metadata": {},
     "output_type": "execute_result"
    }
   ],
   "source": [
    "df.Neighborhood.nunique()"
   ]
  },
  {
   "cell_type": "markdown",
   "id": "28e09b65-ad08-4a7e-8f27-cbf6e29e9864",
   "metadata": {},
   "source": [
    "It's clear from the above box plot that the location of the property has an impact on its price, consequently this would be a useful feature to use in our regression analysis.\n",
    "\n",
    "However, as there are so many unique values (28 in total) creating dummy variables through one-hot encoding is unlikely to be the best engineering method as the input data is extremely wide. This is especially concerning as neighborhoods are not equally represented e.g., the top 5 most popular neighborhoods make up for nearly 50% of all property sales. Hence, leaving this variable as is will add bias to the model and neighborhoods unequally represented are likely to have inaccurate price predictions.\n",
    "\n",
    "**Solution:**\n",
    "\n",
    "Similarly to the problem of predicting car prices based on the make/model of the vehicle, it's reasonable to assume that the more desirable the vehicle the higher it's overall quality and condition. Reviewing the description file we see that we have variables that show this information: \n",
    "\n",
    "* Overall Qual - rates the overall material and finish of the house from 1-10, 10 being the best condition\n",
    "* Overall Cond - rates the overall house cond. from 1-10, 10 being the best\n",
    "* Exter Qual - rates the overall quality of the exterior material, 'Ex' being best for excellent\n",
    "* Exter Cond - rates the present condition of the exterior material, 'Ex' being best for excellent\n",
    "* Kitchen Qual - rates the overal material and finish of the kitchen\n",
    "* Functional - rates the current functionality of the property i.e., from typical being best to salvage (e.g, needs complete refurb)\n",
    "\n",
    "Using these six variables, we will create our own overall condition variable as a proxy for the location and analyse if this trend is approximately correct. if it is, we'll use this as a replacement for the neighborhood variable.\n",
    "\n",
    "For this, we first need to change the last four variables listed above to numerical format:"
   ]
  },
  {
   "cell_type": "code",
   "execution_count": 40,
   "id": "d143be99-7f8c-460b-8e8c-381fe1d90aad",
   "metadata": {},
   "outputs": [],
   "source": [
    "def replace_functional_vals(value):\n",
    "    \"\"\"\n",
    "    Used to replace the functional variable that represents how functional the property is currently\n",
    "    \"\"\"\n",
    "    \n",
    "    if value == 'Typ':\n",
    "        return 8\n",
    "    elif value == 'Min1':\n",
    "        return 7\n",
    "    elif value == 'Min2':\n",
    "        return 6\n",
    "    elif value == 'Mod':\n",
    "        return 5\n",
    "    elif value == 'Maj1':\n",
    "        return 4\n",
    "    elif value == 'Maj2':\n",
    "        return 3\n",
    "    elif value == 'Sev':\n",
    "        return 2\n",
    "    # else value == 'Sal' for salvage only    \n",
    "    else:\n",
    "        return 1\n",
    "    \n",
    "def replace_discrete_variables(value):\n",
    "    \"\"\" \n",
    "    Used for replacing the following categorical variables to numerics: Exter Qual, Exter Cond and KitchenQual    \n",
    "    \"\"\"\n",
    "    if value == 'Ex':\n",
    "        return 5\n",
    "    elif value == 'Gd':\n",
    "        return 4\n",
    "    elif value == 'TA':\n",
    "        return 3     \n",
    "    elif value == 'Fa':\n",
    "        return 2\n",
    "    # else value == 'poor', return 1\n",
    "    else:\n",
    "        return 1"
   ]
  },
  {
   "cell_type": "code",
   "execution_count": 41,
   "id": "b4813ab7-de57-47bf-b245-1d7eab4ca214",
   "metadata": {},
   "outputs": [],
   "source": [
    "df['Functional_Num'] = df['Functional'].apply(replace_functional_vals)\n",
    "df['KitchenQual_Num'] = df['Kitchen Qual'].apply(replace_discrete_variables)\n",
    "df['ExterCond_Num'] = df['Exter Cond'].apply(replace_discrete_variables)\n",
    "df['ExterQual_Num'] = df['Exter Qual'].apply(replace_discrete_variables)"
   ]
  },
  {
   "cell_type": "code",
   "execution_count": 42,
   "id": "0174db43-78ff-4299-947e-6112890c28ad",
   "metadata": {},
   "outputs": [
    {
     "name": "stdout",
     "output_type": "stream",
     "text": [
      "3    2277\n",
      "4     266\n",
      "2      50\n",
      "5      11\n",
      "1       2\n",
      "Name: ExterCond_Num, dtype: int64\n",
      "TA    2277\n",
      "Gd     266\n",
      "Fa      50\n",
      "Ex      11\n",
      "Po       2\n",
      "Name: Exter Cond, dtype: int64\n",
      "\n",
      "3    1580\n",
      "4     929\n",
      "5      73\n",
      "2      24\n",
      "Name: ExterQual_Num, dtype: int64\n",
      "TA    1580\n",
      "Gd     929\n",
      "Ex      73\n",
      "Fa      24\n",
      "Name: Exter Qual, dtype: int64\n",
      "\n",
      "3    1308\n",
      "4    1087\n",
      "5     151\n",
      "2      59\n",
      "1       1\n",
      "Name: KitchenQual_Num, dtype: int64\n",
      "TA    1308\n",
      "Gd    1087\n",
      "Ex     151\n",
      "Fa      59\n",
      "Po       1\n",
      "Name: Kitchen Qual, dtype: int64\n"
     ]
    }
   ],
   "source": [
    "# testing changes against previous values\n",
    "print(df['ExterCond_Num'].value_counts())\n",
    "print(df['Exter Cond'].value_counts())\n",
    "print()\n",
    "print(df['ExterQual_Num'].value_counts())\n",
    "print(df['Exter Qual'].value_counts())\n",
    "print()\n",
    "print(df['KitchenQual_Num'].value_counts())\n",
    "print(df['Kitchen Qual'].value_counts())"
   ]
  },
  {
   "cell_type": "code",
   "execution_count": 43,
   "id": "0a38318a-2eee-40bf-a4f6-ed68720d88ad",
   "metadata": {},
   "outputs": [],
   "source": [
    "df['LocationProxy'] = (\n",
    "    # standardise the values by the average value\n",
    "    df['Overall Qual'] / df['Overall Qual'].mean() + \n",
    "    df['Overall Cond'] / df['Overall Cond'].mean() + \n",
    "    df['ExterCond_Num'] / df['ExterCond_Num'].mean() +\n",
    "    df['ExterQual_Num'] / df['ExterQual_Num'].mean() +\n",
    "    df['KitchenQual_Num'] / df['KitchenQual_Num'].mean() +\n",
    "    df['Functional_Num'] / df['Functional_Num'].mean()\n",
    ")"
   ]
  },
  {
   "cell_type": "code",
   "execution_count": 44,
   "id": "b2b86214-6e3f-4876-ae98-b3810abe4765",
   "metadata": {},
   "outputs": [
    {
     "data": {
      "text/html": [
       "<div>\n",
       "<style scoped>\n",
       "    .dataframe tbody tr th:only-of-type {\n",
       "        vertical-align: middle;\n",
       "    }\n",
       "\n",
       "    .dataframe tbody tr th {\n",
       "        vertical-align: top;\n",
       "    }\n",
       "\n",
       "    .dataframe thead th {\n",
       "        text-align: right;\n",
       "    }\n",
       "</style>\n",
       "<table border=\"1\" class=\"dataframe\">\n",
       "  <thead>\n",
       "    <tr style=\"text-align: right;\">\n",
       "      <th></th>\n",
       "      <th>SalePrice</th>\n",
       "      <th>LocationProxy</th>\n",
       "    </tr>\n",
       "    <tr>\n",
       "      <th>Neighborhood</th>\n",
       "      <th></th>\n",
       "      <th></th>\n",
       "    </tr>\n",
       "  </thead>\n",
       "  <tbody>\n",
       "    <tr>\n",
       "      <th>NoRidge</th>\n",
       "      <td>302810.966667</td>\n",
       "      <td>6.521670</td>\n",
       "    </tr>\n",
       "    <tr>\n",
       "      <th>NridgHt</th>\n",
       "      <td>293799.936170</td>\n",
       "      <td>6.735466</td>\n",
       "    </tr>\n",
       "    <tr>\n",
       "      <th>GrnHill</th>\n",
       "      <td>280000.000000</td>\n",
       "      <td>6.342510</td>\n",
       "    </tr>\n",
       "    <tr>\n",
       "      <th>StoneBr</th>\n",
       "      <td>277356.512821</td>\n",
       "      <td>6.606426</td>\n",
       "    </tr>\n",
       "    <tr>\n",
       "      <th>Veenker</th>\n",
       "      <td>255865.909091</td>\n",
       "      <td>6.583199</td>\n",
       "    </tr>\n",
       "    <tr>\n",
       "      <th>Timber</th>\n",
       "      <td>247174.134328</td>\n",
       "      <td>6.342820</td>\n",
       "    </tr>\n",
       "    <tr>\n",
       "      <th>Somerst</th>\n",
       "      <td>228095.529070</td>\n",
       "      <td>6.424677</td>\n",
       "    </tr>\n",
       "    <tr>\n",
       "      <th>ClearCr</th>\n",
       "      <td>215045.578947</td>\n",
       "      <td>5.918974</td>\n",
       "    </tr>\n",
       "    <tr>\n",
       "      <th>Crawfor</th>\n",
       "      <td>205801.446809</td>\n",
       "      <td>6.102384</td>\n",
       "    </tr>\n",
       "    <tr>\n",
       "      <th>CollgCr</th>\n",
       "      <td>200680.747082</td>\n",
       "      <td>6.229060</td>\n",
       "    </tr>\n",
       "    <tr>\n",
       "      <th>Blmngtn</th>\n",
       "      <td>196661.678571</td>\n",
       "      <td>6.376068</td>\n",
       "    </tr>\n",
       "    <tr>\n",
       "      <th>Greens</th>\n",
       "      <td>193531.250000</td>\n",
       "      <td>6.515220</td>\n",
       "    </tr>\n",
       "    <tr>\n",
       "      <th>NWAmes</th>\n",
       "      <td>192515.427350</td>\n",
       "      <td>6.002609</td>\n",
       "    </tr>\n",
       "    <tr>\n",
       "      <th>Gilbert</th>\n",
       "      <td>190637.246835</td>\n",
       "      <td>6.033411</td>\n",
       "    </tr>\n",
       "    <tr>\n",
       "      <th>SawyerW</th>\n",
       "      <td>182134.516949</td>\n",
       "      <td>6.085437</td>\n",
       "    </tr>\n",
       "    <tr>\n",
       "      <th>Mitchel</th>\n",
       "      <td>165307.281553</td>\n",
       "      <td>5.770802</td>\n",
       "    </tr>\n",
       "    <tr>\n",
       "      <th>NAmes</th>\n",
       "      <td>145536.394937</td>\n",
       "      <td>5.725626</td>\n",
       "    </tr>\n",
       "    <tr>\n",
       "      <th>Blueste</th>\n",
       "      <td>143590.000000</td>\n",
       "      <td>6.082508</td>\n",
       "    </tr>\n",
       "    <tr>\n",
       "      <th>NPkVill</th>\n",
       "      <td>140743.181818</td>\n",
       "      <td>5.789514</td>\n",
       "    </tr>\n",
       "    <tr>\n",
       "      <th>Landmrk</th>\n",
       "      <td>137000.000000</td>\n",
       "      <td>5.600071</td>\n",
       "    </tr>\n",
       "    <tr>\n",
       "      <th>Sawyer</th>\n",
       "      <td>136679.620438</td>\n",
       "      <td>5.630657</td>\n",
       "    </tr>\n",
       "    <tr>\n",
       "      <th>Edwards</th>\n",
       "      <td>131364.687500</td>\n",
       "      <td>5.602736</td>\n",
       "    </tr>\n",
       "    <tr>\n",
       "      <th>SWISU</th>\n",
       "      <td>130865.384615</td>\n",
       "      <td>5.627686</td>\n",
       "    </tr>\n",
       "    <tr>\n",
       "      <th>BrkSide</th>\n",
       "      <td>126674.234694</td>\n",
       "      <td>5.715086</td>\n",
       "    </tr>\n",
       "    <tr>\n",
       "      <th>OldTown</th>\n",
       "      <td>125347.024510</td>\n",
       "      <td>5.871841</td>\n",
       "    </tr>\n",
       "    <tr>\n",
       "      <th>IDOTRR</th>\n",
       "      <td>118824.785714</td>\n",
       "      <td>5.665531</td>\n",
       "    </tr>\n",
       "    <tr>\n",
       "      <th>BrDale</th>\n",
       "      <td>107359.615385</td>\n",
       "      <td>5.674471</td>\n",
       "    </tr>\n",
       "    <tr>\n",
       "      <th>MeadowV</th>\n",
       "      <td>96836.470588</td>\n",
       "      <td>5.477118</td>\n",
       "    </tr>\n",
       "  </tbody>\n",
       "</table>\n",
       "</div>"
      ],
      "text/plain": [
       "                  SalePrice  LocationProxy\n",
       "Neighborhood                              \n",
       "NoRidge       302810.966667       6.521670\n",
       "NridgHt       293799.936170       6.735466\n",
       "GrnHill       280000.000000       6.342510\n",
       "StoneBr       277356.512821       6.606426\n",
       "Veenker       255865.909091       6.583199\n",
       "Timber        247174.134328       6.342820\n",
       "Somerst       228095.529070       6.424677\n",
       "ClearCr       215045.578947       5.918974\n",
       "Crawfor       205801.446809       6.102384\n",
       "CollgCr       200680.747082       6.229060\n",
       "Blmngtn       196661.678571       6.376068\n",
       "Greens        193531.250000       6.515220\n",
       "NWAmes        192515.427350       6.002609\n",
       "Gilbert       190637.246835       6.033411\n",
       "SawyerW       182134.516949       6.085437\n",
       "Mitchel       165307.281553       5.770802\n",
       "NAmes         145536.394937       5.725626\n",
       "Blueste       143590.000000       6.082508\n",
       "NPkVill       140743.181818       5.789514\n",
       "Landmrk       137000.000000       5.600071\n",
       "Sawyer        136679.620438       5.630657\n",
       "Edwards       131364.687500       5.602736\n",
       "SWISU         130865.384615       5.627686\n",
       "BrkSide       126674.234694       5.715086\n",
       "OldTown       125347.024510       5.871841\n",
       "IDOTRR        118824.785714       5.665531\n",
       "BrDale        107359.615385       5.674471\n",
       "MeadowV        96836.470588       5.477118"
      ]
     },
     "execution_count": 44,
     "metadata": {},
     "output_type": "execute_result"
    }
   ],
   "source": [
    "# determine if the new location proxy makes sense\n",
    "df[['SalePrice', 'Neighborhood', 'LocationProxy']].groupby('Neighborhood').mean().sort_values(by='SalePrice', ascending=False)"
   ]
  },
  {
   "cell_type": "markdown",
   "id": "6e0126ef-39c0-48d8-b537-aebec07fb449",
   "metadata": {},
   "source": [
    "The newly created variable makes sense in that as property prices increase, so too does the location proxy variable based on the current condition of the property. \n",
    "\n",
    "Using the analysis above, it's possible to transform the variable to an ordinal measurement by grouping neighborhoods with similar values to further separate the location proxy. Like the example given above for predicting the prices of vehicles, this would be like grouping cars in subsets such as German-made, as their demand will tend to be similar irrespective of the actual make.\n",
    "\n",
    "In this example, as we have an even number of neighborhoods, we'll create 4 equally sized groups, where 1 represents the least popular neighborhoods and 4 represents the most in demand neighborhoods."
   ]
  },
  {
   "cell_type": "code",
   "execution_count": 45,
   "id": "2075679d-1bdc-43ed-93d4-06fe80f1e71f",
   "metadata": {},
   "outputs": [
    {
     "data": {
      "text/html": [
       "<div>\n",
       "<style scoped>\n",
       "    .dataframe tbody tr th:only-of-type {\n",
       "        vertical-align: middle;\n",
       "    }\n",
       "\n",
       "    .dataframe tbody tr th {\n",
       "        vertical-align: top;\n",
       "    }\n",
       "\n",
       "    .dataframe thead th {\n",
       "        text-align: right;\n",
       "    }\n",
       "</style>\n",
       "<table border=\"1\" class=\"dataframe\">\n",
       "  <thead>\n",
       "    <tr style=\"text-align: right;\">\n",
       "      <th></th>\n",
       "      <th>LocationProxy</th>\n",
       "    </tr>\n",
       "    <tr>\n",
       "      <th>Neighborhood</th>\n",
       "      <th></th>\n",
       "    </tr>\n",
       "  </thead>\n",
       "  <tbody>\n",
       "    <tr>\n",
       "      <th>NridgHt</th>\n",
       "      <td>6.735466</td>\n",
       "    </tr>\n",
       "    <tr>\n",
       "      <th>StoneBr</th>\n",
       "      <td>6.606426</td>\n",
       "    </tr>\n",
       "    <tr>\n",
       "      <th>Veenker</th>\n",
       "      <td>6.583199</td>\n",
       "    </tr>\n",
       "    <tr>\n",
       "      <th>NoRidge</th>\n",
       "      <td>6.521670</td>\n",
       "    </tr>\n",
       "    <tr>\n",
       "      <th>Greens</th>\n",
       "      <td>6.515220</td>\n",
       "    </tr>\n",
       "    <tr>\n",
       "      <th>Somerst</th>\n",
       "      <td>6.424677</td>\n",
       "    </tr>\n",
       "    <tr>\n",
       "      <th>Blmngtn</th>\n",
       "      <td>6.376068</td>\n",
       "    </tr>\n",
       "    <tr>\n",
       "      <th>Timber</th>\n",
       "      <td>6.342820</td>\n",
       "    </tr>\n",
       "    <tr>\n",
       "      <th>GrnHill</th>\n",
       "      <td>6.342510</td>\n",
       "    </tr>\n",
       "    <tr>\n",
       "      <th>CollgCr</th>\n",
       "      <td>6.229060</td>\n",
       "    </tr>\n",
       "    <tr>\n",
       "      <th>Crawfor</th>\n",
       "      <td>6.102384</td>\n",
       "    </tr>\n",
       "    <tr>\n",
       "      <th>SawyerW</th>\n",
       "      <td>6.085437</td>\n",
       "    </tr>\n",
       "    <tr>\n",
       "      <th>Blueste</th>\n",
       "      <td>6.082508</td>\n",
       "    </tr>\n",
       "    <tr>\n",
       "      <th>Gilbert</th>\n",
       "      <td>6.033411</td>\n",
       "    </tr>\n",
       "    <tr>\n",
       "      <th>NWAmes</th>\n",
       "      <td>6.002609</td>\n",
       "    </tr>\n",
       "    <tr>\n",
       "      <th>ClearCr</th>\n",
       "      <td>5.918974</td>\n",
       "    </tr>\n",
       "    <tr>\n",
       "      <th>OldTown</th>\n",
       "      <td>5.871841</td>\n",
       "    </tr>\n",
       "    <tr>\n",
       "      <th>NPkVill</th>\n",
       "      <td>5.789514</td>\n",
       "    </tr>\n",
       "    <tr>\n",
       "      <th>Mitchel</th>\n",
       "      <td>5.770802</td>\n",
       "    </tr>\n",
       "    <tr>\n",
       "      <th>NAmes</th>\n",
       "      <td>5.725626</td>\n",
       "    </tr>\n",
       "    <tr>\n",
       "      <th>BrkSide</th>\n",
       "      <td>5.715086</td>\n",
       "    </tr>\n",
       "    <tr>\n",
       "      <th>BrDale</th>\n",
       "      <td>5.674471</td>\n",
       "    </tr>\n",
       "    <tr>\n",
       "      <th>IDOTRR</th>\n",
       "      <td>5.665531</td>\n",
       "    </tr>\n",
       "    <tr>\n",
       "      <th>Sawyer</th>\n",
       "      <td>5.630657</td>\n",
       "    </tr>\n",
       "    <tr>\n",
       "      <th>SWISU</th>\n",
       "      <td>5.627686</td>\n",
       "    </tr>\n",
       "    <tr>\n",
       "      <th>Edwards</th>\n",
       "      <td>5.602736</td>\n",
       "    </tr>\n",
       "    <tr>\n",
       "      <th>Landmrk</th>\n",
       "      <td>5.600071</td>\n",
       "    </tr>\n",
       "    <tr>\n",
       "      <th>MeadowV</th>\n",
       "      <td>5.477118</td>\n",
       "    </tr>\n",
       "  </tbody>\n",
       "</table>\n",
       "</div>"
      ],
      "text/plain": [
       "              LocationProxy\n",
       "Neighborhood               \n",
       "NridgHt            6.735466\n",
       "StoneBr            6.606426\n",
       "Veenker            6.583199\n",
       "NoRidge            6.521670\n",
       "Greens             6.515220\n",
       "Somerst            6.424677\n",
       "Blmngtn            6.376068\n",
       "Timber             6.342820\n",
       "GrnHill            6.342510\n",
       "CollgCr            6.229060\n",
       "Crawfor            6.102384\n",
       "SawyerW            6.085437\n",
       "Blueste            6.082508\n",
       "Gilbert            6.033411\n",
       "NWAmes             6.002609\n",
       "ClearCr            5.918974\n",
       "OldTown            5.871841\n",
       "NPkVill            5.789514\n",
       "Mitchel            5.770802\n",
       "NAmes              5.725626\n",
       "BrkSide            5.715086\n",
       "BrDale             5.674471\n",
       "IDOTRR             5.665531\n",
       "Sawyer             5.630657\n",
       "SWISU              5.627686\n",
       "Edwards            5.602736\n",
       "Landmrk            5.600071\n",
       "MeadowV            5.477118"
      ]
     },
     "execution_count": 45,
     "metadata": {},
     "output_type": "execute_result"
    }
   ],
   "source": [
    "# testing location proxy to determine if it makes sense\n",
    "df[['Neighborhood', 'LocationProxy']].groupby('Neighborhood').mean().sort_values(by='LocationProxy', ascending=False)"
   ]
  },
  {
   "cell_type": "code",
   "execution_count": 46,
   "id": "f11ebbdd-81d4-4f03-8f69-f285f3d476df",
   "metadata": {},
   "outputs": [],
   "source": [
    "def group_neighborhoods(neighborhood):\n",
    "\n",
    "    if neighborhood in ['MeadowV', 'Landmrk', 'Edwards', 'SWISU', 'Sawyer', 'IDOTRR', 'BrDale']:\n",
    "        return 1\n",
    "    elif neighborhood in ['BrkSide', 'NAmes', 'Mitchel', 'NPkVill', 'OldTown', 'ClearCr', 'NWAmes']:\n",
    "        return 2\n",
    "    elif neighborhood in ['Gilbert', 'Blueste', 'SawyerW', 'Crawfor', 'CollgCr', 'GrnHill', 'Timber']:\n",
    "        return 3\n",
    "    return 4"
   ]
  },
  {
   "cell_type": "code",
   "execution_count": 47,
   "id": "ceea7774-14af-4b32-98fe-052115e53def",
   "metadata": {},
   "outputs": [],
   "source": [
    "df['LocationProxy'] = df['Neighborhood'].apply(group_neighborhoods)"
   ]
  },
  {
   "cell_type": "code",
   "execution_count": 48,
   "id": "c922f1ad-23e7-4fe6-84b7-49aee6308953",
   "metadata": {},
   "outputs": [
    {
     "data": {
      "text/plain": [
       "2    977\n",
       "3    706\n",
       "4    470\n",
       "1    453\n",
       "Name: LocationProxy, dtype: int64"
      ]
     },
     "execution_count": 48,
     "metadata": {},
     "output_type": "execute_result"
    }
   ],
   "source": [
    "df.LocationProxy.value_counts()"
   ]
  },
  {
   "cell_type": "code",
   "execution_count": 49,
   "id": "57e3d70a-59bb-4791-a275-bc5ee93dcf33",
   "metadata": {},
   "outputs": [
    {
     "data": {
      "text/html": [
       "<div>\n",
       "<style scoped>\n",
       "    .dataframe tbody tr th:only-of-type {\n",
       "        vertical-align: middle;\n",
       "    }\n",
       "\n",
       "    .dataframe tbody tr th {\n",
       "        vertical-align: top;\n",
       "    }\n",
       "\n",
       "    .dataframe thead th {\n",
       "        text-align: right;\n",
       "    }\n",
       "</style>\n",
       "<table border=\"1\" class=\"dataframe\">\n",
       "  <thead>\n",
       "    <tr style=\"text-align: right;\">\n",
       "      <th></th>\n",
       "      <th>SalePrice</th>\n",
       "      <th>Gr Liv Area</th>\n",
       "      <th>Age</th>\n",
       "    </tr>\n",
       "    <tr>\n",
       "      <th>LocationProxy</th>\n",
       "      <th></th>\n",
       "      <th></th>\n",
       "      <th></th>\n",
       "    </tr>\n",
       "  </thead>\n",
       "  <tbody>\n",
       "    <tr>\n",
       "      <th>1</th>\n",
       "      <td>127422.044150</td>\n",
       "      <td>1244.834437</td>\n",
       "      <td>66.704194</td>\n",
       "    </tr>\n",
       "    <tr>\n",
       "      <th>2</th>\n",
       "      <td>149734.678608</td>\n",
       "      <td>1374.401228</td>\n",
       "      <td>67.671443</td>\n",
       "    </tr>\n",
       "    <tr>\n",
       "      <th>3</th>\n",
       "      <td>199843.361190</td>\n",
       "      <td>1578.726629</td>\n",
       "      <td>32.433428</td>\n",
       "    </tr>\n",
       "    <tr>\n",
       "      <th>4</th>\n",
       "      <td>260271.512766</td>\n",
       "      <td>1764.214894</td>\n",
       "      <td>20.278723</td>\n",
       "    </tr>\n",
       "  </tbody>\n",
       "</table>\n",
       "</div>"
      ],
      "text/plain": [
       "                   SalePrice  Gr Liv Area        Age\n",
       "LocationProxy                                       \n",
       "1              127422.044150  1244.834437  66.704194\n",
       "2              149734.678608  1374.401228  67.671443\n",
       "3              199843.361190  1578.726629  32.433428\n",
       "4              260271.512766  1764.214894  20.278723"
      ]
     },
     "execution_count": 49,
     "metadata": {},
     "output_type": "execute_result"
    }
   ],
   "source": [
    "df[['SalePrice', 'LocationProxy', 'Gr Liv Area', 'Age']].groupby('LocationProxy').mean()"
   ]
  },
  {
   "cell_type": "markdown",
   "id": "6346f4c7-8ee4-47f6-aef6-76bf55b07c51",
   "metadata": {},
   "source": [
    "The new location proxy variable is clearly better at predicting prices than the previous version. We can see this as the ordinal measurment increases so too does the sale price and size of the ground living area. Age decreases which we'd expect based on our above analysis (age is negatively correlated with sale price).\n",
    "\n",
    "While we're now limiting our model predictions for outputs based on exact neighborhoods, we've removed most of the bias from our model as all groups are now represented adequately. As also mentioned above, creating this new variable has reduced the noise in our model as input data is no longer wide for this variable - from 28 values we've created 4.\n",
    "\n",
    "Now reviewing the condition of the property based on its surrounding area e.g., nearby railroads, busy streets etc."
   ]
  },
  {
   "cell_type": "code",
   "execution_count": 50,
   "id": "7779f214-7767-41c0-bc97-4aec2757b84b",
   "metadata": {},
   "outputs": [
    {
     "data": {
      "text/html": [
       "<div>\n",
       "<style scoped>\n",
       "    .dataframe tbody tr th:only-of-type {\n",
       "        vertical-align: middle;\n",
       "    }\n",
       "\n",
       "    .dataframe tbody tr th {\n",
       "        vertical-align: top;\n",
       "    }\n",
       "\n",
       "    .dataframe thead th {\n",
       "        text-align: right;\n",
       "    }\n",
       "</style>\n",
       "<table border=\"1\" class=\"dataframe\">\n",
       "  <thead>\n",
       "    <tr style=\"text-align: right;\">\n",
       "      <th></th>\n",
       "      <th>SalePrice</th>\n",
       "    </tr>\n",
       "    <tr>\n",
       "      <th>Condition 1</th>\n",
       "      <th></th>\n",
       "    </tr>\n",
       "  </thead>\n",
       "  <tbody>\n",
       "    <tr>\n",
       "      <th>Artery</th>\n",
       "      <td>127510.000000</td>\n",
       "    </tr>\n",
       "    <tr>\n",
       "      <th>Feedr</th>\n",
       "      <td>146903.063830</td>\n",
       "    </tr>\n",
       "    <tr>\n",
       "      <th>Norm</th>\n",
       "      <td>182601.927337</td>\n",
       "    </tr>\n",
       "    <tr>\n",
       "      <th>PosA</th>\n",
       "      <td>222963.888889</td>\n",
       "    </tr>\n",
       "    <tr>\n",
       "      <th>PosN</th>\n",
       "      <td>217416.939394</td>\n",
       "    </tr>\n",
       "    <tr>\n",
       "      <th>RRAe</th>\n",
       "      <td>138776.000000</td>\n",
       "    </tr>\n",
       "    <tr>\n",
       "      <th>RRAn</th>\n",
       "      <td>180150.000000</td>\n",
       "    </tr>\n",
       "    <tr>\n",
       "      <th>RRNe</th>\n",
       "      <td>150337.500000</td>\n",
       "    </tr>\n",
       "    <tr>\n",
       "      <th>RRNn</th>\n",
       "      <td>206906.250000</td>\n",
       "    </tr>\n",
       "  </tbody>\n",
       "</table>\n",
       "</div>"
      ],
      "text/plain": [
       "                 SalePrice\n",
       "Condition 1               \n",
       "Artery       127510.000000\n",
       "Feedr        146903.063830\n",
       "Norm         182601.927337\n",
       "PosA         222963.888889\n",
       "PosN         217416.939394\n",
       "RRAe         138776.000000\n",
       "RRAn         180150.000000\n",
       "RRNe         150337.500000\n",
       "RRNn         206906.250000"
      ]
     },
     "execution_count": 50,
     "metadata": {},
     "output_type": "execute_result"
    }
   ],
   "source": [
    "df[['SalePrice', 'Condition 1']].groupby('Condition 1').mean()"
   ]
  },
  {
   "cell_type": "code",
   "execution_count": 51,
   "id": "436f5556-8a57-4b7e-86d2-c68debd76b52",
   "metadata": {},
   "outputs": [
    {
     "data": {
      "text/plain": [
       "<AxesSubplot:xlabel='Condition 1', ylabel='SalePrice'>"
      ]
     },
     "execution_count": 51,
     "metadata": {},
     "output_type": "execute_result"
    },
    {
     "data": {
      "image/png": "[encoded data removed]",
      "text/plain": [
       "<Figure size 1080x432 with 1 Axes>"
      ]
     },
     "metadata": {
      "needs_background": "light"
     },
     "output_type": "display_data"
    }
   ],
   "source": [
    "plt.figure(figsize=(15,6))\n",
    "sns.boxplot(x=df['Condition 1'], y=df['SalePrice'])"
   ]
  },
  {
   "cell_type": "code",
   "execution_count": 52,
   "id": "819121a7-7078-4634-9604-89ee6511c467",
   "metadata": {},
   "outputs": [
    {
     "data": {
      "text/plain": [
       "Norm      2257\n",
       "Feedr      141\n",
       "Artery      75\n",
       "RRAn        45\n",
       "PosN        33\n",
       "RRAe        25\n",
       "PosA        18\n",
       "RRNn         8\n",
       "RRNe         4\n",
       "Name: Condition 1, dtype: int64"
      ]
     },
     "execution_count": 52,
     "metadata": {},
     "output_type": "execute_result"
    }
   ],
   "source": [
    "df['Condition 1'].value_counts()"
   ]
  },
  {
   "cell_type": "markdown",
   "id": "7436089c-dcc0-4db7-ae50-b70d7c63397c",
   "metadata": {},
   "source": [
    "There are an overwhelming majority of properties sold under normal conditions and as a result leaving the values as they are, similarly to neighborhood, would add bias to the model. \n",
    "\n",
    "Knowing that the Ames dataset contains the sale of properties in Iowa, a midwestern state in America not close to any popular cities commutable by train, it's extremely likely that the nearby railway links are not desirable i.e., they are not for public transport but for moving goods across the country (if however we were reviewing the property prices of say, New York, the railway would likely be desirable nearby).\n",
    "\n",
    "As a result, we'll group properties together based on whether or not they are close to a railway or a busy street. As seen above, the results show mostly that these properties sell for the least which makes sense due to both air and noise pollution."
   ]
  },
  {
   "cell_type": "code",
   "execution_count": 53,
   "id": "5565eaac-18fe-452e-9b6a-1436fa766840",
   "metadata": {},
   "outputs": [],
   "source": [
    "df['closeToRailOrRoad1'] = df['Condition 1'].apply(lambda x: 1 if x in ['Artery', 'Feedr', 'RRNn', 'RRAn', 'RRNe', 'RRAe'] else 0)\n",
    "df['closeToRailOrRoad2'] = df['Condition 2'].apply(lambda x: 1 if x in ['Artery', 'Feedr', 'RRNn', 'RRAn', 'RRNe', 'RRAe'] else 0)"
   ]
  },
  {
   "cell_type": "code",
   "execution_count": 54,
   "id": "8339ae7c-6cd4-4db5-baa8-78ecb0c707b2",
   "metadata": {},
   "outputs": [],
   "source": [
    "df['closeToRailorRoad'] = df.apply(lambda df: 1 if (df['closeToRailOrRoad1'] == 1 | df['closeToRailOrRoad2'] == 1) else 0, axis=1)"
   ]
  },
  {
   "cell_type": "code",
   "execution_count": 55,
   "id": "04a4eb48-9287-460a-86ed-65aff7a715e6",
   "metadata": {},
   "outputs": [
    {
     "data": {
      "text/html": [
       "<div>\n",
       "<style scoped>\n",
       "    .dataframe tbody tr th:only-of-type {\n",
       "        vertical-align: middle;\n",
       "    }\n",
       "\n",
       "    .dataframe tbody tr th {\n",
       "        vertical-align: top;\n",
       "    }\n",
       "\n",
       "    .dataframe thead th {\n",
       "        text-align: right;\n",
       "    }\n",
       "</style>\n",
       "<table border=\"1\" class=\"dataframe\">\n",
       "  <thead>\n",
       "    <tr style=\"text-align: right;\">\n",
       "      <th></th>\n",
       "      <th>SalePrice</th>\n",
       "    </tr>\n",
       "    <tr>\n",
       "      <th>closeToRailorRoad</th>\n",
       "      <th></th>\n",
       "    </tr>\n",
       "  </thead>\n",
       "  <tbody>\n",
       "    <tr>\n",
       "      <th>0</th>\n",
       "      <td>183414.496967</td>\n",
       "    </tr>\n",
       "    <tr>\n",
       "      <th>1</th>\n",
       "      <td>148017.892617</td>\n",
       "    </tr>\n",
       "  </tbody>\n",
       "</table>\n",
       "</div>"
      ],
      "text/plain": [
       "                       SalePrice\n",
       "closeToRailorRoad               \n",
       "0                  183414.496967\n",
       "1                  148017.892617"
      ]
     },
     "execution_count": 55,
     "metadata": {},
     "output_type": "execute_result"
    }
   ],
   "source": [
    "df[['SalePrice', 'closeToRailorRoad']].groupby('closeToRailorRoad').mean()"
   ]
  },
  {
   "cell_type": "code",
   "execution_count": 56,
   "id": "fc148303-63f1-4da0-8278-19406c7e71ba",
   "metadata": {},
   "outputs": [
    {
     "data": {
      "text/html": [
       "<div>\n",
       "<style scoped>\n",
       "    .dataframe tbody tr th:only-of-type {\n",
       "        vertical-align: middle;\n",
       "    }\n",
       "\n",
       "    .dataframe tbody tr th {\n",
       "        vertical-align: top;\n",
       "    }\n",
       "\n",
       "    .dataframe thead th {\n",
       "        text-align: right;\n",
       "    }\n",
       "</style>\n",
       "<table border=\"1\" class=\"dataframe\">\n",
       "  <thead>\n",
       "    <tr style=\"text-align: right;\">\n",
       "      <th></th>\n",
       "      <th></th>\n",
       "      <th>SalePrice</th>\n",
       "    </tr>\n",
       "    <tr>\n",
       "      <th>closeToRailorRoad</th>\n",
       "      <th>LocationProxy</th>\n",
       "      <th></th>\n",
       "    </tr>\n",
       "  </thead>\n",
       "  <tbody>\n",
       "    <tr>\n",
       "      <th rowspan=\"4\" valign=\"top\">0</th>\n",
       "      <th>1</th>\n",
       "      <td>128086.700265</td>\n",
       "    </tr>\n",
       "    <tr>\n",
       "      <th>2</th>\n",
       "      <td>152220.179302</td>\n",
       "    </tr>\n",
       "    <tr>\n",
       "      <th>3</th>\n",
       "      <td>202083.036810</td>\n",
       "    </tr>\n",
       "    <tr>\n",
       "      <th>4</th>\n",
       "      <td>260667.107143</td>\n",
       "    </tr>\n",
       "    <tr>\n",
       "      <th rowspan=\"4\" valign=\"top\">1</th>\n",
       "      <th>1</th>\n",
       "      <td>124125.000000</td>\n",
       "    </tr>\n",
       "    <tr>\n",
       "      <th>2</th>\n",
       "      <td>135587.753425</td>\n",
       "    </tr>\n",
       "    <tr>\n",
       "      <th>3</th>\n",
       "      <td>172801.351852</td>\n",
       "    </tr>\n",
       "    <tr>\n",
       "      <th>4</th>\n",
       "      <td>252215.772727</td>\n",
       "    </tr>\n",
       "  </tbody>\n",
       "</table>\n",
       "</div>"
      ],
      "text/plain": [
       "                                     SalePrice\n",
       "closeToRailorRoad LocationProxy               \n",
       "0                 1              128086.700265\n",
       "                  2              152220.179302\n",
       "                  3              202083.036810\n",
       "                  4              260667.107143\n",
       "1                 1              124125.000000\n",
       "                  2              135587.753425\n",
       "                  3              172801.351852\n",
       "                  4              252215.772727"
      ]
     },
     "execution_count": 56,
     "metadata": {},
     "output_type": "execute_result"
    }
   ],
   "source": [
    "df[['SalePrice', 'LocationProxy','closeToRailorRoad']].groupby(['closeToRailorRoad', 'LocationProxy']).mean()"
   ]
  },
  {
   "cell_type": "markdown",
   "id": "f61e6d34-d296-4900-b792-298d623aa46c",
   "metadata": {},
   "source": [
    "The analysis above confirms the new variable is a good indicator of price based on whether the property is near a railway or busy road. More granularly, we can see that, if two properties are in the same neighborhood or very close, but one does not have a railway or road nearby, then it is more desirable indicated by the sale price.\n",
    "\n",
    "Now reviewing and cleaning up the MS Zoning variable:"
   ]
  },
  {
   "cell_type": "code",
   "execution_count": 57,
   "id": "2a50a147-e6ab-4689-b3c8-aca9d1f008e2",
   "metadata": {},
   "outputs": [
    {
     "data": {
      "text/html": [
       "<div>\n",
       "<style scoped>\n",
       "    .dataframe tbody tr th:only-of-type {\n",
       "        vertical-align: middle;\n",
       "    }\n",
       "\n",
       "    .dataframe tbody tr th {\n",
       "        vertical-align: top;\n",
       "    }\n",
       "\n",
       "    .dataframe thead th {\n",
       "        text-align: right;\n",
       "    }\n",
       "</style>\n",
       "<table border=\"1\" class=\"dataframe\">\n",
       "  <thead>\n",
       "    <tr style=\"text-align: right;\">\n",
       "      <th></th>\n",
       "      <th>SalePrice</th>\n",
       "    </tr>\n",
       "    <tr>\n",
       "      <th>MS Zoning</th>\n",
       "      <th></th>\n",
       "    </tr>\n",
       "  </thead>\n",
       "  <tbody>\n",
       "    <tr>\n",
       "      <th>FV</th>\n",
       "      <td>219705.894737</td>\n",
       "    </tr>\n",
       "    <tr>\n",
       "      <th>RH</th>\n",
       "      <td>130250.000000</td>\n",
       "    </tr>\n",
       "    <tr>\n",
       "      <th>RL</th>\n",
       "      <td>187264.993649</td>\n",
       "    </tr>\n",
       "    <tr>\n",
       "      <th>RM</th>\n",
       "      <td>128750.406404</td>\n",
       "    </tr>\n",
       "  </tbody>\n",
       "</table>\n",
       "</div>"
      ],
      "text/plain": [
       "               SalePrice\n",
       "MS Zoning               \n",
       "FV         219705.894737\n",
       "RH         130250.000000\n",
       "RL         187264.993649\n",
       "RM         128750.406404"
      ]
     },
     "execution_count": 57,
     "metadata": {},
     "output_type": "execute_result"
    }
   ],
   "source": [
    "df[['SalePrice', 'MS Zoning']].groupby('MS Zoning').mean()"
   ]
  },
  {
   "cell_type": "markdown",
   "id": "bbbd26ad-9742-49fe-afcb-a4987b53a583",
   "metadata": {},
   "source": [
    "Clearly the type of residential property for sale has an impact on the price. In this case properties built on water (floating village residential) are most desirable. Properties then decrease in price as population density increases hence the correlation is negative i.e., the more people live in an particular area the less the property's value.\n",
    "\n",
    "Similarly to the location proxy, we'll create an ordinal variable named 'area_density' to display the density of the area around the property, in this case we assume that FV is the least densely populated as the property is built on water."
   ]
  },
  {
   "cell_type": "code",
   "execution_count": 58,
   "id": "adaa101c-f36f-46c6-8e6e-72d60b6175e3",
   "metadata": {},
   "outputs": [],
   "source": [
    "def create_pop_density(zone):\n",
    "    \n",
    "    if zone == 'FV':\n",
    "        return 4\n",
    "    elif zone == 'RL':\n",
    "        return 3\n",
    "    elif zone == 'RM':\n",
    "        return 2\n",
    "    elif zone == 'RH':\n",
    "        return 1\n",
    "\n",
    "df['pop_density'] = df['MS Zoning'].apply(create_pop_density)"
   ]
  },
  {
   "cell_type": "code",
   "execution_count": 59,
   "id": "c0ada907-50db-4f84-9a66-9e513b30cd07",
   "metadata": {},
   "outputs": [
    {
     "data": {
      "text/plain": [
       "<AxesSubplot:xlabel='pop_density', ylabel='SalePrice'>"
      ]
     },
     "execution_count": 59,
     "metadata": {},
     "output_type": "execute_result"
    },
    {
     "data": {
      "image/png": "[encoded data removed]",
      "text/plain": [
       "<Figure size 720x432 with 1 Axes>"
      ]
     },
     "metadata": {
      "needs_background": "light"
     },
     "output_type": "display_data"
    }
   ],
   "source": [
    "plt.figure(figsize=(10,6))\n",
    "sns.boxplot(x=df['pop_density'], y=df['SalePrice'], palette=\"viridis\")"
   ]
  },
  {
   "cell_type": "markdown",
   "id": "1c6a077d-ff8e-449f-b42b-94b4ea373c43",
   "metadata": {},
   "source": [
    "Reviewing the year properties were sold:"
   ]
  },
  {
   "cell_type": "code",
   "execution_count": 60,
   "id": "bb56a826-e52a-4603-ab72-b0c5144c04b5",
   "metadata": {},
   "outputs": [
    {
     "data": {
      "text/plain": [
       "2007    629\n",
       "2009    583\n",
       "2008    552\n",
       "2006    534\n",
       "2010    308\n",
       "Name: Yr Sold, dtype: int64"
      ]
     },
     "execution_count": 60,
     "metadata": {},
     "output_type": "execute_result"
    }
   ],
   "source": [
    "df['Yr Sold'].value_counts()"
   ]
  },
  {
   "cell_type": "code",
   "execution_count": 61,
   "id": "630f880f-9e1b-4d2e-99e2-9a1035b126fb",
   "metadata": {},
   "outputs": [
    {
     "data": {
      "text/html": [
       "<div>\n",
       "<style scoped>\n",
       "    .dataframe tbody tr th:only-of-type {\n",
       "        vertical-align: middle;\n",
       "    }\n",
       "\n",
       "    .dataframe tbody tr th {\n",
       "        vertical-align: top;\n",
       "    }\n",
       "\n",
       "    .dataframe thead th {\n",
       "        text-align: right;\n",
       "    }\n",
       "</style>\n",
       "<table border=\"1\" class=\"dataframe\">\n",
       "  <thead>\n",
       "    <tr style=\"text-align: right;\">\n",
       "      <th></th>\n",
       "      <th>SalePrice</th>\n",
       "    </tr>\n",
       "    <tr>\n",
       "      <th>Yr Sold</th>\n",
       "      <th></th>\n",
       "    </tr>\n",
       "  </thead>\n",
       "  <tbody>\n",
       "    <tr>\n",
       "      <th>2006</th>\n",
       "      <td>181239.910112</td>\n",
       "    </tr>\n",
       "    <tr>\n",
       "      <th>2007</th>\n",
       "      <td>180141.365660</td>\n",
       "    </tr>\n",
       "    <tr>\n",
       "      <th>2008</th>\n",
       "      <td>179906.425725</td>\n",
       "    </tr>\n",
       "    <tr>\n",
       "      <th>2009</th>\n",
       "      <td>179496.989708</td>\n",
       "    </tr>\n",
       "    <tr>\n",
       "      <th>2010</th>\n",
       "      <td>173324.246753</td>\n",
       "    </tr>\n",
       "  </tbody>\n",
       "</table>\n",
       "</div>"
      ],
      "text/plain": [
       "             SalePrice\n",
       "Yr Sold               \n",
       "2006     181239.910112\n",
       "2007     180141.365660\n",
       "2008     179906.425725\n",
       "2009     179496.989708\n",
       "2010     173324.246753"
      ]
     },
     "execution_count": 61,
     "metadata": {},
     "output_type": "execute_result"
    }
   ],
   "source": [
    "df[['Yr Sold', 'SalePrice']].groupby('Yr Sold').mean()"
   ]
  },
  {
   "cell_type": "code",
   "execution_count": 62,
   "id": "9122b819-d995-40b7-b7da-a4e70e6aaa4b",
   "metadata": {},
   "outputs": [
    {
     "data": {
      "text/html": [
       "<div>\n",
       "<style scoped>\n",
       "    .dataframe tbody tr th:only-of-type {\n",
       "        vertical-align: middle;\n",
       "    }\n",
       "\n",
       "    .dataframe tbody tr th {\n",
       "        vertical-align: top;\n",
       "    }\n",
       "\n",
       "    .dataframe thead th {\n",
       "        text-align: right;\n",
       "    }\n",
       "</style>\n",
       "<table border=\"1\" class=\"dataframe\">\n",
       "  <thead>\n",
       "    <tr style=\"text-align: right;\">\n",
       "      <th></th>\n",
       "      <th>SalePrice</th>\n",
       "    </tr>\n",
       "    <tr>\n",
       "      <th>Yr Sold</th>\n",
       "      <th></th>\n",
       "    </tr>\n",
       "  </thead>\n",
       "  <tbody>\n",
       "    <tr>\n",
       "      <th>2006</th>\n",
       "      <td>NaN</td>\n",
       "    </tr>\n",
       "    <tr>\n",
       "      <th>2007</th>\n",
       "      <td>-0.606127</td>\n",
       "    </tr>\n",
       "    <tr>\n",
       "      <th>2008</th>\n",
       "      <td>-0.130420</td>\n",
       "    </tr>\n",
       "    <tr>\n",
       "      <th>2009</th>\n",
       "      <td>-0.227583</td>\n",
       "    </tr>\n",
       "    <tr>\n",
       "      <th>2010</th>\n",
       "      <td>-3.438912</td>\n",
       "    </tr>\n",
       "  </tbody>\n",
       "</table>\n",
       "</div>"
      ],
      "text/plain": [
       "         SalePrice\n",
       "Yr Sold           \n",
       "2006           NaN\n",
       "2007     -0.606127\n",
       "2008     -0.130420\n",
       "2009     -0.227583\n",
       "2010     -3.438912"
      ]
     },
     "execution_count": 62,
     "metadata": {},
     "output_type": "execute_result"
    }
   ],
   "source": [
    "df[['Yr Sold', 'SalePrice']].groupby('Yr Sold').mean().pct_change()*100"
   ]
  },
  {
   "cell_type": "markdown",
   "id": "113e8da5-18e7-4443-b06e-929d647325d7",
   "metadata": {},
   "source": [
    "As a result of the financial crisis property prices significantly declined. Therfore it may be useful to add this data into the model as a dummy variable based on economic conditions e.g., is the current market more closely aligned with that prior to or post the financial crisis? In this case it may have been useful to have more data leading up to the crisis i.e., before 2006, rather than just years either side. "
   ]
  },
  {
   "cell_type": "code",
   "execution_count": 67,
   "id": "537be3cb-5b94-4ba4-bf1f-7909907d807d",
   "metadata": {},
   "outputs": [],
   "source": [
    "df = pd.concat([df, pd.get_dummies(df['Yr Sold'], prefix='YrSold')], axis=1)"
   ]
  },
  {
   "cell_type": "markdown",
   "id": "1c1d53a5-d579-483d-9889-059294ba88cf",
   "metadata": {},
   "source": [
    "Performing further engineering though more minor i.e., just converting categorical variables to binary or ordinal outcome "
   ]
  },
  {
   "cell_type": "code",
   "execution_count": 63,
   "id": "9cfc834c-2c02-4634-9272-f6edeab60d67",
   "metadata": {},
   "outputs": [
    {
     "data": {
      "text/plain": [
       "Y    2462\n",
       "N     144\n",
       "Name: Central Air, dtype: int64"
      ]
     },
     "execution_count": 63,
     "metadata": {},
     "output_type": "execute_result"
    }
   ],
   "source": [
    "df['Central Air'].value_counts()"
   ]
  },
  {
   "cell_type": "code",
   "execution_count": 64,
   "id": "39b3745b-bdff-46e2-89c3-19261d6c6521",
   "metadata": {},
   "outputs": [],
   "source": [
    "df['Central Air'] = df['Central Air'].apply(lambda x: 1 if x == 'Y' else 0)"
   ]
  },
  {
   "cell_type": "code",
   "execution_count": 65,
   "id": "303f3ab2-7d2b-4cef-961f-d8e6e51a94b1",
   "metadata": {},
   "outputs": [
    {
     "data": {
      "text/plain": [
       "Y    2379\n",
       "N     167\n",
       "P      60\n",
       "Name: Paved Drive, dtype: int64"
      ]
     },
     "execution_count": 65,
     "metadata": {},
     "output_type": "execute_result"
    }
   ],
   "source": [
    "df['Paved Drive'].value_counts()"
   ]
  },
  {
   "cell_type": "code",
   "execution_count": 66,
   "id": "62ccbb41-3139-49ed-969f-37ff97539d7c",
   "metadata": {},
   "outputs": [
    {
     "data": {
      "text/html": [
       "<div>\n",
       "<style scoped>\n",
       "    .dataframe tbody tr th:only-of-type {\n",
       "        vertical-align: middle;\n",
       "    }\n",
       "\n",
       "    .dataframe tbody tr th {\n",
       "        vertical-align: top;\n",
       "    }\n",
       "\n",
       "    .dataframe thead th {\n",
       "        text-align: right;\n",
       "    }\n",
       "</style>\n",
       "<table border=\"1\" class=\"dataframe\">\n",
       "  <thead>\n",
       "    <tr style=\"text-align: right;\">\n",
       "      <th></th>\n",
       "      <th>SalePrice</th>\n",
       "    </tr>\n",
       "    <tr>\n",
       "      <th>Paved Drive</th>\n",
       "      <th></th>\n",
       "    </tr>\n",
       "  </thead>\n",
       "  <tbody>\n",
       "    <tr>\n",
       "      <th>N</th>\n",
       "      <td>113757.371257</td>\n",
       "    </tr>\n",
       "    <tr>\n",
       "      <th>P</th>\n",
       "      <td>136108.400000</td>\n",
       "    </tr>\n",
       "    <tr>\n",
       "      <th>Y</th>\n",
       "      <td>185063.474569</td>\n",
       "    </tr>\n",
       "  </tbody>\n",
       "</table>\n",
       "</div>"
      ],
      "text/plain": [
       "                 SalePrice\n",
       "Paved Drive               \n",
       "N            113757.371257\n",
       "P            136108.400000\n",
       "Y            185063.474569"
      ]
     },
     "execution_count": 66,
     "metadata": {},
     "output_type": "execute_result"
    }
   ],
   "source": [
    "df[['SalePrice', 'Paved Drive']].groupby('Paved Drive').mean()"
   ]
  },
  {
   "cell_type": "code",
   "execution_count": 67,
   "id": "400f8ecb-fc3c-411a-be8d-3b3db142abef",
   "metadata": {},
   "outputs": [],
   "source": [
    "# Creating a binary column that shows if the property is located near a postive amentity e.g., a park, greenbelt etc.\n",
    "df['closeToPosAmentity1'] = df['Condition 1'].apply(lambda x: 1 if x in ['PosN', 'PosA'] else 0)\n",
    "df['closeToPosAmentity2'] = df['Condition 2'].apply(lambda x: 1 if x in ['PosN', 'PosA'] else 0)\n",
    "\n",
    "df['closeToAmentity'] = df.apply(lambda df: 1 if (df['closeToPosAmentity1'] == 1 | df['closeToPosAmentity2'] == 1) else 0, axis=1)"
   ]
  },
  {
   "cell_type": "code",
   "execution_count": 68,
   "id": "937f5975-70a4-44be-a248-7f26271e39cf",
   "metadata": {},
   "outputs": [],
   "source": [
    "df.drop(['closeToPosAmentity1', 'closeToPosAmentity2'], axis=1, inplace=True)"
   ]
  },
  {
   "cell_type": "code",
   "execution_count": 69,
   "id": "7691a929-8c29-4d31-88e1-dbb7279e1304",
   "metadata": {},
   "outputs": [],
   "source": [
    "# dropping the utitilities variable as all have full public utitilities and consequently we receive no meaning from this variable\n",
    "df.drop('Utilities', axis=1, inplace=True)"
   ]
  },
  {
   "cell_type": "code",
   "execution_count": 70,
   "id": "9a569d5c-23a4-458d-910b-aad6682bc0bc",
   "metadata": {},
   "outputs": [
    {
     "data": {
      "text/plain": [
       "Pave    2600\n",
       "Grvl       6\n",
       "Name: Street, dtype: int64"
      ]
     },
     "execution_count": 70,
     "metadata": {},
     "output_type": "execute_result"
    }
   ],
   "source": [
    "df['Street'].value_counts()"
   ]
  },
  {
   "cell_type": "code",
   "execution_count": 71,
   "id": "7ccd8138-5c6e-4986-bee5-885e7230941b",
   "metadata": {},
   "outputs": [],
   "source": [
    "df['streetIsPaved'] = df['Street'].apply(lambda x: 1 if x =='Pave' else 0)"
   ]
  },
  {
   "cell_type": "code",
   "execution_count": 72,
   "id": "b062d6b3-d755-4eab-8389-dd87bf5132fe",
   "metadata": {},
   "outputs": [],
   "source": [
    "df.drop('Street', axis=1, inplace=True)"
   ]
  },
  {
   "cell_type": "code",
   "execution_count": 73,
   "id": "b043877d-5f20-4bc2-8b24-36eef5443e4a",
   "metadata": {},
   "outputs": [
    {
     "data": {
      "text/html": [
       "<div>\n",
       "<style scoped>\n",
       "    .dataframe tbody tr th:only-of-type {\n",
       "        vertical-align: middle;\n",
       "    }\n",
       "\n",
       "    .dataframe tbody tr th {\n",
       "        vertical-align: top;\n",
       "    }\n",
       "\n",
       "    .dataframe thead th {\n",
       "        text-align: right;\n",
       "    }\n",
       "</style>\n",
       "<table border=\"1\" class=\"dataframe\">\n",
       "  <thead>\n",
       "    <tr style=\"text-align: right;\">\n",
       "      <th></th>\n",
       "      <th>SalePrice</th>\n",
       "    </tr>\n",
       "    <tr>\n",
       "      <th>Bldg Type</th>\n",
       "      <th></th>\n",
       "    </tr>\n",
       "  </thead>\n",
       "  <tbody>\n",
       "    <tr>\n",
       "      <th>1Fam</th>\n",
       "      <td>182669.705033</td>\n",
       "    </tr>\n",
       "    <tr>\n",
       "      <th>2fmCon</th>\n",
       "      <td>125262.807692</td>\n",
       "    </tr>\n",
       "    <tr>\n",
       "      <th>Duplex</th>\n",
       "      <td>142399.714286</td>\n",
       "    </tr>\n",
       "    <tr>\n",
       "      <th>Twnhs</th>\n",
       "      <td>136770.322581</td>\n",
       "    </tr>\n",
       "    <tr>\n",
       "      <th>TwnhsE</th>\n",
       "      <td>192987.160714</td>\n",
       "    </tr>\n",
       "  </tbody>\n",
       "</table>\n",
       "</div>"
      ],
      "text/plain": [
       "               SalePrice\n",
       "Bldg Type               \n",
       "1Fam       182669.705033\n",
       "2fmCon     125262.807692\n",
       "Duplex     142399.714286\n",
       "Twnhs      136770.322581\n",
       "TwnhsE     192987.160714"
      ]
     },
     "execution_count": 73,
     "metadata": {},
     "output_type": "execute_result"
    }
   ],
   "source": [
    "df[['Bldg Type', 'SalePrice']].groupby('Bldg Type').mean()"
   ]
  },
  {
   "cell_type": "markdown",
   "id": "428b9d09-4a00-4e0e-8789-b652937ac6ef",
   "metadata": {},
   "source": [
    "Clearly the type of dwelling has an impact on the average price of the property as shown by the above variation. Consequently we'll create dummy variables from this variable:"
   ]
  },
  {
   "cell_type": "code",
   "execution_count": 74,
   "id": "6662c06e-cfe7-48b9-80e1-e62c3c83f18b",
   "metadata": {},
   "outputs": [],
   "source": [
    "df = pd.concat([df, pd.get_dummies(df['Bldg Type'], prefix=\"BldingType\")], axis=1)"
   ]
  },
  {
   "cell_type": "markdown",
   "id": "e8a239dc-37a8-4aa3-988a-bb9a2cd2bb39",
   "metadata": {},
   "source": [
    "Creating a new variable for total bathrooms rather than having two individual columns:"
   ]
  },
  {
   "cell_type": "code",
   "execution_count": 75,
   "id": "b6b8eb07-fac8-4786-891f-a07326e77de2",
   "metadata": {},
   "outputs": [
    {
     "data": {
      "text/plain": [
       "2    1398\n",
       "1    1153\n",
       "3      40\n",
       "0      11\n",
       "4       4\n",
       "Name: Full Bath, dtype: int64"
      ]
     },
     "execution_count": 75,
     "metadata": {},
     "output_type": "execute_result"
    }
   ],
   "source": [
    "df['Full Bath'].value_counts()"
   ]
  },
  {
   "cell_type": "code",
   "execution_count": 76,
   "id": "65621184-d0e1-495e-bd76-5913b3fe22c4",
   "metadata": {},
   "outputs": [
    {
     "data": {
      "text/plain": [
       "0    1635\n",
       "1     950\n",
       "2      21\n",
       "Name: Half Bath, dtype: int64"
      ]
     },
     "execution_count": 76,
     "metadata": {},
     "output_type": "execute_result"
    }
   ],
   "source": [
    "df['Half Bath'].value_counts()"
   ]
  },
  {
   "cell_type": "code",
   "execution_count": 77,
   "id": "7cd67470-dcc1-4751-bc83-ef317cfef6dc",
   "metadata": {},
   "outputs": [],
   "source": [
    "# creating a variable for the number of bathrooms. In this case half bathrooms are halved to find the sum\n",
    "df['Bathrooms'] = df['Full Bath'] + (0.5 * df['Half Bath'])"
   ]
  },
  {
   "cell_type": "code",
   "execution_count": 78,
   "id": "fd8116a4-f8bf-4d84-8ae9-de7005f0132d",
   "metadata": {},
   "outputs": [],
   "source": [
    "df.drop(['Full Bath', 'Half Bath'], axis=1, inplace=True)"
   ]
  },
  {
   "cell_type": "code",
   "execution_count": 79,
   "id": "6214744e-8cf7-4e3e-9b09-70d7bdb3ef8c",
   "metadata": {},
   "outputs": [
    {
     "data": {
      "text/html": [
       "<div>\n",
       "<style scoped>\n",
       "    .dataframe tbody tr th:only-of-type {\n",
       "        vertical-align: middle;\n",
       "    }\n",
       "\n",
       "    .dataframe tbody tr th {\n",
       "        vertical-align: top;\n",
       "    }\n",
       "\n",
       "    .dataframe thead th {\n",
       "        text-align: right;\n",
       "    }\n",
       "</style>\n",
       "<table border=\"1\" class=\"dataframe\">\n",
       "  <thead>\n",
       "    <tr style=\"text-align: right;\">\n",
       "      <th></th>\n",
       "      <th>SalePrice</th>\n",
       "    </tr>\n",
       "    <tr>\n",
       "      <th>Lot Config</th>\n",
       "      <th></th>\n",
       "    </tr>\n",
       "  </thead>\n",
       "  <tbody>\n",
       "    <tr>\n",
       "      <th>Corner</th>\n",
       "      <td>181163.036364</td>\n",
       "    </tr>\n",
       "    <tr>\n",
       "      <th>CulDSac</th>\n",
       "      <td>207753.262821</td>\n",
       "    </tr>\n",
       "    <tr>\n",
       "      <th>FR2</th>\n",
       "      <td>177361.825000</td>\n",
       "    </tr>\n",
       "    <tr>\n",
       "      <th>FR3</th>\n",
       "      <td>205684.769231</td>\n",
       "    </tr>\n",
       "    <tr>\n",
       "      <th>Inside</th>\n",
       "      <td>176549.764215</td>\n",
       "    </tr>\n",
       "  </tbody>\n",
       "</table>\n",
       "</div>"
      ],
      "text/plain": [
       "                SalePrice\n",
       "Lot Config               \n",
       "Corner      181163.036364\n",
       "CulDSac     207753.262821\n",
       "FR2         177361.825000\n",
       "FR3         205684.769231\n",
       "Inside      176549.764215"
      ]
     },
     "execution_count": 79,
     "metadata": {},
     "output_type": "execute_result"
    }
   ],
   "source": [
    "df[['Lot Config', 'SalePrice']].groupby('Lot Config').mean()"
   ]
  },
  {
   "cell_type": "code",
   "execution_count": 80,
   "id": "10a45dee-2d67-4895-9264-0aba292e9cb6",
   "metadata": {},
   "outputs": [],
   "source": [
    "# creating a dummy variable for garage, if pd.isnull(x) then there is no garage\n",
    "df['hasGarage'] = df['Garage Type'].apply(lambda x: 0 if pd.isnull(x) else 1)"
   ]
  },
  {
   "cell_type": "code",
   "execution_count": 81,
   "id": "d01391db-2875-4f30-8ad9-7f26f7dc3a89",
   "metadata": {},
   "outputs": [
    {
     "data": {
      "text/html": [
       "<div>\n",
       "<style scoped>\n",
       "    .dataframe tbody tr th:only-of-type {\n",
       "        vertical-align: middle;\n",
       "    }\n",
       "\n",
       "    .dataframe tbody tr th {\n",
       "        vertical-align: top;\n",
       "    }\n",
       "\n",
       "    .dataframe thead th {\n",
       "        text-align: right;\n",
       "    }\n",
       "</style>\n",
       "<table border=\"1\" class=\"dataframe\">\n",
       "  <thead>\n",
       "    <tr style=\"text-align: right;\">\n",
       "      <th></th>\n",
       "      <th>SalePrice</th>\n",
       "    </tr>\n",
       "    <tr>\n",
       "      <th>Land Contour</th>\n",
       "      <th></th>\n",
       "    </tr>\n",
       "  </thead>\n",
       "  <tbody>\n",
       "    <tr>\n",
       "      <th>Bnk</th>\n",
       "      <td>147620.851064</td>\n",
       "    </tr>\n",
       "    <tr>\n",
       "      <th>HLS</th>\n",
       "      <td>233025.359223</td>\n",
       "    </tr>\n",
       "    <tr>\n",
       "      <th>Low</th>\n",
       "      <td>207539.280000</td>\n",
       "    </tr>\n",
       "    <tr>\n",
       "      <th>Lvl</th>\n",
       "      <td>177691.841882</td>\n",
       "    </tr>\n",
       "  </tbody>\n",
       "</table>\n",
       "</div>"
      ],
      "text/plain": [
       "                  SalePrice\n",
       "Land Contour               \n",
       "Bnk           147620.851064\n",
       "HLS           233025.359223\n",
       "Low           207539.280000\n",
       "Lvl           177691.841882"
      ]
     },
     "execution_count": 81,
     "metadata": {},
     "output_type": "execute_result"
    }
   ],
   "source": [
    "df[['Land Contour', 'SalePrice']].groupby('Land Contour').mean()"
   ]
  },
  {
   "cell_type": "code",
   "execution_count": 82,
   "id": "34b9977b-bd05-4814-a856-cf8f36f2dfa1",
   "metadata": {},
   "outputs": [
    {
     "data": {
      "text/plain": [
       "Lvl    2359\n",
       "HLS     103\n",
       "Bnk      94\n",
       "Low      50\n",
       "Name: Land Contour, dtype: int64"
      ]
     },
     "execution_count": 82,
     "metadata": {},
     "output_type": "execute_result"
    }
   ],
   "source": [
    "df['Land Contour'].value_counts()"
   ]
  },
  {
   "cell_type": "markdown",
   "id": "9af194b2-bfbe-48d6-9aaa-091a87aea502",
   "metadata": {},
   "source": [
    "The analysis above shows there is variance in the price of a property based on how flat the land contour is surrounding the property. In the above case, we see that hillside properties receive the greatest price while banked properties, those with quick and signifcant rises from street to building, are the least desirable.\n",
    "\n",
    "The above is still however biased towards flat properties, most in the area observed are near flat or level. Hence, leaving the variable as will create some model bias despite all values observed being greater than 30 in size (the minimum rule of thumb for the central limit theorem to hold). Consequently, we'lll do the following:\n",
    "\n",
    "1. Create a new column with a binary outcome based on whether the land contour is flat (1) or not (0). \n",
    "2. Turn the variable into a dummy variable also to analyse the prices on a more granularly level:"
   ]
  },
  {
   "cell_type": "code",
   "execution_count": 83,
   "id": "4836aad8-b9fa-4ec8-a886-cb1af84056d9",
   "metadata": {},
   "outputs": [],
   "source": [
    "# create binary outcome\n",
    "df['flatContour'] = df['Land Contour'].apply(lambda x: 1 if x =='Lvl' else 0)\n",
    "\n",
    "# create dummy variable spreading the variables across multiple new columns\n",
    "df = pd.concat([df, pd.get_dummies(df['Land Contour'], prefix=\"LandContour\")], axis=1)"
   ]
  },
  {
   "cell_type": "code",
   "execution_count": 84,
   "id": "0071ec36-3e6d-4a9e-b763-f8083aa5ed31",
   "metadata": {},
   "outputs": [],
   "source": [
    "# create dummy variable for kitchen\n",
    "df = pd.concat([df, pd.get_dummies(df['Kitchen Qual'], prefix=\"kitchen\")], axis=1)"
   ]
  },
  {
   "cell_type": "markdown",
   "id": "a7a0632d-e6e1-4fbd-9bcb-fef16bbe3cca",
   "metadata": {},
   "source": [
    "#### Transforming the target variable:\n",
    "\n",
    "Finally as observed above, while removing outliers in the target variable made the data appear more normal, there is still skewness as observed by the right tail:"
   ]
  },
  {
   "cell_type": "code",
   "execution_count": 86,
   "id": "dfe9fa56-1a32-4db7-bea5-a611e056a7e1",
   "metadata": {},
   "outputs": [
    {
     "data": {
      "text/plain": [
       "<AxesSubplot:xlabel='SalePrice', ylabel='Count'>"
      ]
     },
     "execution_count": 86,
     "metadata": {},
     "output_type": "execute_result"
    },
    {
     "data": {
      "image/png": "[encoded data removed]",
      "text/plain": [
       "<Figure size 720x360 with 1 Axes>"
      ]
     },
     "metadata": {
      "needs_background": "light"
     },
     "output_type": "display_data"
    }
   ],
   "source": [
    "fig, ax = plt.subplots(figsize=(10,5))\n",
    "sns.histplot(df['SalePrice'], ax=ax)"
   ]
  },
  {
   "cell_type": "markdown",
   "id": "30adf934-cf29-4f57-b0d6-8139d153f1e7",
   "metadata": {},
   "source": [
    "The non-normality of this variable can be confirmed using a probability plot (Q-Q plot) which compares two probability distributions by plotting their quantiles against each other, in this case we are comparing our sale prices against a normal distribution:"
   ]
  },
  {
   "cell_type": "code",
   "execution_count": 87,
   "id": "5f64087b-0c3c-4856-80f1-297bcc1a7ce0",
   "metadata": {},
   "outputs": [
    {
     "data": {
      "image/png": "[encoded data removed]",
      "text/plain": [
       "<Figure size 432x288 with 1 Axes>"
      ]
     },
     "metadata": {
      "needs_background": "light"
     },
     "output_type": "display_data"
    }
   ],
   "source": [
    "stats.probplot(df.SalePrice, dist=\"norm\", plot=plt)\n",
    "plt.show()"
   ]
  },
  {
   "cell_type": "markdown",
   "id": "c05a64fe-b807-49fe-8cc1-cbee21ee02e9",
   "metadata": {},
   "source": [
    "As we can see the data is skewed with tails on either side that are asymetrical and consequently the shape of this distribution does not well fit that of a gaussian distribution.\n",
    "\n",
    "A solution to this issue is transforming the sale price using the natural logarithm which will reduce the positive skewness. Furthermore, as the prices are all non-zero positive values, this transformation method is appropiate:"
   ]
  },
  {
   "cell_type": "code",
   "execution_count": 88,
   "id": "813b5dea-9187-4d32-b2eb-2793955ae92c",
   "metadata": {},
   "outputs": [],
   "source": [
    "df['LnSalePrice'] = np.log(df['SalePrice'])"
   ]
  },
  {
   "cell_type": "code",
   "execution_count": 89,
   "id": "18d6e918-ce0d-4c1d-a0a4-7fa071dedb8c",
   "metadata": {},
   "outputs": [
    {
     "data": {
      "image/png": "[encoded data removed]",
      "text/plain": [
       "<Figure size 432x288 with 1 Axes>"
      ]
     },
     "metadata": {
      "needs_background": "light"
     },
     "output_type": "display_data"
    }
   ],
   "source": [
    "stats.probplot(df.LnSalePrice, dist=\"norm\", plot=plt)\n",
    "plt.show()"
   ]
  },
  {
   "cell_type": "code",
   "execution_count": 90,
   "id": "df1b0d91-0a56-4e12-81ec-22e5449b2d38",
   "metadata": {},
   "outputs": [
    {
     "data": {
      "text/plain": [
       "<AxesSubplot:xlabel='LnSalePrice', ylabel='Count'>"
      ]
     },
     "execution_count": 90,
     "metadata": {},
     "output_type": "execute_result"
    },
    {
     "data": {
      "image/png": "[encoded data removed]",
      "text/plain": [
       "<Figure size 720x360 with 1 Axes>"
      ]
     },
     "metadata": {
      "needs_background": "light"
     },
     "output_type": "display_data"
    }
   ],
   "source": [
    "fig, ax = plt.subplots(figsize=(10,5))\n",
    "sns.histplot(df['LnSalePrice'], ax=ax)"
   ]
  },
  {
   "cell_type": "markdown",
   "id": "9607e398-e17d-4edf-8003-69b70cde4c88",
   "metadata": {},
   "source": [
    "While there is still skewness in the natural log of sale prices, we can see from the Q-Q plot above that data is more symmetrical and consequently better fits a normal distribution."
   ]
  },
  {
   "cell_type": "markdown",
   "id": "0d7f07f0-b6c1-4855-8708-b45aaebf0c0b",
   "metadata": {},
   "source": [
    "### Exporting data:"
   ]
  },
  {
   "cell_type": "code",
   "execution_count": 91,
   "id": "8055086d-ba2b-4d7d-b1a6-562e94b0ce9a",
   "metadata": {},
   "outputs": [
    {
     "data": {
      "text/html": [
       "<div>\n",
       "<style scoped>\n",
       "    .dataframe tbody tr th:only-of-type {\n",
       "        vertical-align: middle;\n",
       "    }\n",
       "\n",
       "    .dataframe tbody tr th {\n",
       "        vertical-align: top;\n",
       "    }\n",
       "\n",
       "    .dataframe thead th {\n",
       "        text-align: right;\n",
       "    }\n",
       "</style>\n",
       "<table border=\"1\" class=\"dataframe\">\n",
       "  <thead>\n",
       "    <tr style=\"text-align: right;\">\n",
       "      <th></th>\n",
       "      <th>PID</th>\n",
       "      <th>MS SubClass</th>\n",
       "      <th>MS Zoning</th>\n",
       "      <th>Lot Frontage</th>\n",
       "      <th>Lot Area</th>\n",
       "      <th>Lot Shape</th>\n",
       "      <th>Land Contour</th>\n",
       "      <th>Lot Config</th>\n",
       "      <th>Land Slope</th>\n",
       "      <th>Neighborhood</th>\n",
       "      <th>Condition 1</th>\n",
       "      <th>Condition 2</th>\n",
       "      <th>Bldg Type</th>\n",
       "      <th>House Style</th>\n",
       "      <th>Overall Qual</th>\n",
       "      <th>Overall Cond</th>\n",
       "      <th>Year Built</th>\n",
       "      <th>Year Remod/Add</th>\n",
       "      <th>Roof Style</th>\n",
       "      <th>Roof Matl</th>\n",
       "      <th>Exterior 1st</th>\n",
       "      <th>Exterior 2nd</th>\n",
       "      <th>Mas Vnr Type</th>\n",
       "      <th>Mas Vnr Area</th>\n",
       "      <th>Exter Qual</th>\n",
       "      <th>Exter Cond</th>\n",
       "      <th>Foundation</th>\n",
       "      <th>Bsmt Qual</th>\n",
       "      <th>Bsmt Cond</th>\n",
       "      <th>Bsmt Exposure</th>\n",
       "      <th>BsmtFin Type 1</th>\n",
       "      <th>BsmtFin SF 1</th>\n",
       "      <th>BsmtFin Type 2</th>\n",
       "      <th>BsmtFin SF 2</th>\n",
       "      <th>Bsmt Unf SF</th>\n",
       "      <th>Total Bsmt SF</th>\n",
       "      <th>Heating</th>\n",
       "      <th>Heating QC</th>\n",
       "      <th>Central Air</th>\n",
       "      <th>Electrical</th>\n",
       "      <th>1st Flr SF</th>\n",
       "      <th>2nd Flr SF</th>\n",
       "      <th>Low Qual Fin SF</th>\n",
       "      <th>Gr Liv Area</th>\n",
       "      <th>Bsmt Full Bath</th>\n",
       "      <th>Bsmt Half Bath</th>\n",
       "      <th>Bedroom AbvGr</th>\n",
       "      <th>Kitchen AbvGr</th>\n",
       "      <th>Kitchen Qual</th>\n",
       "      <th>TotRms AbvGrd</th>\n",
       "      <th>Functional</th>\n",
       "      <th>Fireplaces</th>\n",
       "      <th>Fireplace Qu</th>\n",
       "      <th>Garage Type</th>\n",
       "      <th>Garage Yr Blt</th>\n",
       "      <th>Garage Finish</th>\n",
       "      <th>Garage Cars</th>\n",
       "      <th>Garage Area</th>\n",
       "      <th>Garage Qual</th>\n",
       "      <th>Garage Cond</th>\n",
       "      <th>Paved Drive</th>\n",
       "      <th>Wood Deck SF</th>\n",
       "      <th>Open Porch SF</th>\n",
       "      <th>Enclosed Porch</th>\n",
       "      <th>3Ssn Porch</th>\n",
       "      <th>Screen Porch</th>\n",
       "      <th>Pool Area</th>\n",
       "      <th>Misc Val</th>\n",
       "      <th>Mo Sold</th>\n",
       "      <th>Yr Sold</th>\n",
       "      <th>Sale Type</th>\n",
       "      <th>Sale Condition</th>\n",
       "      <th>SalePrice</th>\n",
       "      <th>Age</th>\n",
       "      <th>Functional_Num</th>\n",
       "      <th>KitchenQual_Num</th>\n",
       "      <th>ExterCond_Num</th>\n",
       "      <th>ExterQual_Num</th>\n",
       "      <th>LocationProxy</th>\n",
       "      <th>closeToRailOrRoad1</th>\n",
       "      <th>closeToRailOrRoad2</th>\n",
       "      <th>closeToRailorRoad</th>\n",
       "      <th>pop_density</th>\n",
       "      <th>closeToAmentity</th>\n",
       "      <th>streetIsPaved</th>\n",
       "      <th>BldingType_1Fam</th>\n",
       "      <th>BldingType_2fmCon</th>\n",
       "      <th>BldingType_Duplex</th>\n",
       "      <th>BldingType_Twnhs</th>\n",
       "      <th>BldingType_TwnhsE</th>\n",
       "      <th>Bathrooms</th>\n",
       "      <th>hasGarage</th>\n",
       "      <th>flatContour</th>\n",
       "      <th>LandContour_Bnk</th>\n",
       "      <th>LandContour_HLS</th>\n",
       "      <th>LandContour_Low</th>\n",
       "      <th>LandContour_Lvl</th>\n",
       "      <th>kitchen_Ex</th>\n",
       "      <th>kitchen_Fa</th>\n",
       "      <th>kitchen_Gd</th>\n",
       "      <th>kitchen_Po</th>\n",
       "      <th>kitchen_TA</th>\n",
       "      <th>LnSalePrice</th>\n",
       "    </tr>\n",
       "    <tr>\n",
       "      <th>Order</th>\n",
       "      <th></th>\n",
       "      <th></th>\n",
       "      <th></th>\n",
       "      <th></th>\n",
       "      <th></th>\n",
       "      <th></th>\n",
       "      <th></th>\n",
       "      <th></th>\n",
       "      <th></th>\n",
       "      <th></th>\n",
       "      <th></th>\n",
       "      <th></th>\n",
       "      <th></th>\n",
       "      <th></th>\n",
       "      <th></th>\n",
       "      <th></th>\n",
       "      <th></th>\n",
       "      <th></th>\n",
       "      <th></th>\n",
       "      <th></th>\n",
       "      <th></th>\n",
       "      <th></th>\n",
       "      <th></th>\n",
       "      <th></th>\n",
       "      <th></th>\n",
       "      <th></th>\n",
       "      <th></th>\n",
       "      <th></th>\n",
       "      <th></th>\n",
       "      <th></th>\n",
       "      <th></th>\n",
       "      <th></th>\n",
       "      <th></th>\n",
       "      <th></th>\n",
       "      <th></th>\n",
       "      <th></th>\n",
       "      <th></th>\n",
       "      <th></th>\n",
       "      <th></th>\n",
       "      <th></th>\n",
       "      <th></th>\n",
       "      <th></th>\n",
       "      <th></th>\n",
       "      <th></th>\n",
       "      <th></th>\n",
       "      <th></th>\n",
       "      <th></th>\n",
       "      <th></th>\n",
       "      <th></th>\n",
       "      <th></th>\n",
       "      <th></th>\n",
       "      <th></th>\n",
       "      <th></th>\n",
       "      <th></th>\n",
       "      <th></th>\n",
       "      <th></th>\n",
       "      <th></th>\n",
       "      <th></th>\n",
       "      <th></th>\n",
       "      <th></th>\n",
       "      <th></th>\n",
       "      <th></th>\n",
       "      <th></th>\n",
       "      <th></th>\n",
       "      <th></th>\n",
       "      <th></th>\n",
       "      <th></th>\n",
       "      <th></th>\n",
       "      <th></th>\n",
       "      <th></th>\n",
       "      <th></th>\n",
       "      <th></th>\n",
       "      <th></th>\n",
       "      <th></th>\n",
       "      <th></th>\n",
       "      <th></th>\n",
       "      <th></th>\n",
       "      <th></th>\n",
       "      <th></th>\n",
       "      <th></th>\n",
       "      <th></th>\n",
       "      <th></th>\n",
       "      <th></th>\n",
       "      <th></th>\n",
       "      <th></th>\n",
       "      <th></th>\n",
       "      <th></th>\n",
       "      <th></th>\n",
       "      <th></th>\n",
       "      <th></th>\n",
       "      <th></th>\n",
       "      <th></th>\n",
       "      <th></th>\n",
       "      <th></th>\n",
       "      <th></th>\n",
       "      <th></th>\n",
       "      <th></th>\n",
       "      <th></th>\n",
       "      <th></th>\n",
       "      <th></th>\n",
       "      <th></th>\n",
       "      <th></th>\n",
       "      <th></th>\n",
       "    </tr>\n",
       "  </thead>\n",
       "  <tbody>\n",
       "    <tr>\n",
       "      <th>1</th>\n",
       "      <td>526301100</td>\n",
       "      <td>20</td>\n",
       "      <td>RL</td>\n",
       "      <td>141.0</td>\n",
       "      <td>31770</td>\n",
       "      <td>IR1</td>\n",
       "      <td>Lvl</td>\n",
       "      <td>Corner</td>\n",
       "      <td>Gtl</td>\n",
       "      <td>NAmes</td>\n",
       "      <td>Norm</td>\n",
       "      <td>Norm</td>\n",
       "      <td>1Fam</td>\n",
       "      <td>1Story</td>\n",
       "      <td>6</td>\n",
       "      <td>5</td>\n",
       "      <td>1960</td>\n",
       "      <td>1960</td>\n",
       "      <td>Hip</td>\n",
       "      <td>CompShg</td>\n",
       "      <td>BrkFace</td>\n",
       "      <td>Plywood</td>\n",
       "      <td>Stone</td>\n",
       "      <td>112.0</td>\n",
       "      <td>TA</td>\n",
       "      <td>TA</td>\n",
       "      <td>CBlock</td>\n",
       "      <td>TA</td>\n",
       "      <td>Gd</td>\n",
       "      <td>Gd</td>\n",
       "      <td>BLQ</td>\n",
       "      <td>639.0</td>\n",
       "      <td>Unf</td>\n",
       "      <td>0.0</td>\n",
       "      <td>441.0</td>\n",
       "      <td>1080.0</td>\n",
       "      <td>GasA</td>\n",
       "      <td>Fa</td>\n",
       "      <td>1</td>\n",
       "      <td>SBrkr</td>\n",
       "      <td>1656</td>\n",
       "      <td>0</td>\n",
       "      <td>0</td>\n",
       "      <td>1656</td>\n",
       "      <td>1.0</td>\n",
       "      <td>0.0</td>\n",
       "      <td>3</td>\n",
       "      <td>1</td>\n",
       "      <td>TA</td>\n",
       "      <td>7</td>\n",
       "      <td>Typ</td>\n",
       "      <td>2</td>\n",
       "      <td>Gd</td>\n",
       "      <td>Attchd</td>\n",
       "      <td>1960.0</td>\n",
       "      <td>Fin</td>\n",
       "      <td>2.0</td>\n",
       "      <td>528.0</td>\n",
       "      <td>TA</td>\n",
       "      <td>TA</td>\n",
       "      <td>P</td>\n",
       "      <td>210</td>\n",
       "      <td>62</td>\n",
       "      <td>0</td>\n",
       "      <td>0</td>\n",
       "      <td>0</td>\n",
       "      <td>0</td>\n",
       "      <td>0</td>\n",
       "      <td>5</td>\n",
       "      <td>2010</td>\n",
       "      <td>WD</td>\n",
       "      <td>Normal</td>\n",
       "      <td>215000</td>\n",
       "      <td>62</td>\n",
       "      <td>8</td>\n",
       "      <td>3</td>\n",
       "      <td>3</td>\n",
       "      <td>3</td>\n",
       "      <td>2</td>\n",
       "      <td>0</td>\n",
       "      <td>0</td>\n",
       "      <td>0</td>\n",
       "      <td>3</td>\n",
       "      <td>0</td>\n",
       "      <td>1</td>\n",
       "      <td>1</td>\n",
       "      <td>0</td>\n",
       "      <td>0</td>\n",
       "      <td>0</td>\n",
       "      <td>0</td>\n",
       "      <td>1.0</td>\n",
       "      <td>1</td>\n",
       "      <td>1</td>\n",
       "      <td>0</td>\n",
       "      <td>0</td>\n",
       "      <td>0</td>\n",
       "      <td>1</td>\n",
       "      <td>0</td>\n",
       "      <td>0</td>\n",
       "      <td>0</td>\n",
       "      <td>0</td>\n",
       "      <td>1</td>\n",
       "      <td>12.278393</td>\n",
       "    </tr>\n",
       "    <tr>\n",
       "      <th>2</th>\n",
       "      <td>526350040</td>\n",
       "      <td>20</td>\n",
       "      <td>RH</td>\n",
       "      <td>80.0</td>\n",
       "      <td>11622</td>\n",
       "      <td>Reg</td>\n",
       "      <td>Lvl</td>\n",
       "      <td>Inside</td>\n",
       "      <td>Gtl</td>\n",
       "      <td>NAmes</td>\n",
       "      <td>Feedr</td>\n",
       "      <td>Norm</td>\n",
       "      <td>1Fam</td>\n",
       "      <td>1Story</td>\n",
       "      <td>5</td>\n",
       "      <td>6</td>\n",
       "      <td>1961</td>\n",
       "      <td>1961</td>\n",
       "      <td>Gable</td>\n",
       "      <td>CompShg</td>\n",
       "      <td>VinylSd</td>\n",
       "      <td>VinylSd</td>\n",
       "      <td>None</td>\n",
       "      <td>0.0</td>\n",
       "      <td>TA</td>\n",
       "      <td>TA</td>\n",
       "      <td>CBlock</td>\n",
       "      <td>TA</td>\n",
       "      <td>TA</td>\n",
       "      <td>No</td>\n",
       "      <td>Rec</td>\n",
       "      <td>468.0</td>\n",
       "      <td>LwQ</td>\n",
       "      <td>144.0</td>\n",
       "      <td>270.0</td>\n",
       "      <td>882.0</td>\n",
       "      <td>GasA</td>\n",
       "      <td>TA</td>\n",
       "      <td>1</td>\n",
       "      <td>SBrkr</td>\n",
       "      <td>896</td>\n",
       "      <td>0</td>\n",
       "      <td>0</td>\n",
       "      <td>896</td>\n",
       "      <td>0.0</td>\n",
       "      <td>0.0</td>\n",
       "      <td>2</td>\n",
       "      <td>1</td>\n",
       "      <td>TA</td>\n",
       "      <td>5</td>\n",
       "      <td>Typ</td>\n",
       "      <td>0</td>\n",
       "      <td>NaN</td>\n",
       "      <td>Attchd</td>\n",
       "      <td>1961.0</td>\n",
       "      <td>Unf</td>\n",
       "      <td>1.0</td>\n",
       "      <td>730.0</td>\n",
       "      <td>TA</td>\n",
       "      <td>TA</td>\n",
       "      <td>Y</td>\n",
       "      <td>140</td>\n",
       "      <td>0</td>\n",
       "      <td>0</td>\n",
       "      <td>0</td>\n",
       "      <td>120</td>\n",
       "      <td>0</td>\n",
       "      <td>0</td>\n",
       "      <td>6</td>\n",
       "      <td>2010</td>\n",
       "      <td>WD</td>\n",
       "      <td>Normal</td>\n",
       "      <td>105000</td>\n",
       "      <td>61</td>\n",
       "      <td>8</td>\n",
       "      <td>3</td>\n",
       "      <td>3</td>\n",
       "      <td>3</td>\n",
       "      <td>2</td>\n",
       "      <td>1</td>\n",
       "      <td>0</td>\n",
       "      <td>1</td>\n",
       "      <td>1</td>\n",
       "      <td>0</td>\n",
       "      <td>1</td>\n",
       "      <td>1</td>\n",
       "      <td>0</td>\n",
       "      <td>0</td>\n",
       "      <td>0</td>\n",
       "      <td>0</td>\n",
       "      <td>1.0</td>\n",
       "      <td>1</td>\n",
       "      <td>1</td>\n",
       "      <td>0</td>\n",
       "      <td>0</td>\n",
       "      <td>0</td>\n",
       "      <td>1</td>\n",
       "      <td>0</td>\n",
       "      <td>0</td>\n",
       "      <td>0</td>\n",
       "      <td>0</td>\n",
       "      <td>1</td>\n",
       "      <td>11.561716</td>\n",
       "    </tr>\n",
       "    <tr>\n",
       "      <th>3</th>\n",
       "      <td>526351010</td>\n",
       "      <td>20</td>\n",
       "      <td>RL</td>\n",
       "      <td>81.0</td>\n",
       "      <td>14267</td>\n",
       "      <td>IR1</td>\n",
       "      <td>Lvl</td>\n",
       "      <td>Corner</td>\n",
       "      <td>Gtl</td>\n",
       "      <td>NAmes</td>\n",
       "      <td>Norm</td>\n",
       "      <td>Norm</td>\n",
       "      <td>1Fam</td>\n",
       "      <td>1Story</td>\n",
       "      <td>6</td>\n",
       "      <td>6</td>\n",
       "      <td>1958</td>\n",
       "      <td>1958</td>\n",
       "      <td>Hip</td>\n",
       "      <td>CompShg</td>\n",
       "      <td>Wd Sdng</td>\n",
       "      <td>Wd Sdng</td>\n",
       "      <td>BrkFace</td>\n",
       "      <td>108.0</td>\n",
       "      <td>TA</td>\n",
       "      <td>TA</td>\n",
       "      <td>CBlock</td>\n",
       "      <td>TA</td>\n",
       "      <td>TA</td>\n",
       "      <td>No</td>\n",
       "      <td>ALQ</td>\n",
       "      <td>923.0</td>\n",
       "      <td>Unf</td>\n",
       "      <td>0.0</td>\n",
       "      <td>406.0</td>\n",
       "      <td>1329.0</td>\n",
       "      <td>GasA</td>\n",
       "      <td>TA</td>\n",
       "      <td>1</td>\n",
       "      <td>SBrkr</td>\n",
       "      <td>1329</td>\n",
       "      <td>0</td>\n",
       "      <td>0</td>\n",
       "      <td>1329</td>\n",
       "      <td>0.0</td>\n",
       "      <td>0.0</td>\n",
       "      <td>3</td>\n",
       "      <td>1</td>\n",
       "      <td>Gd</td>\n",
       "      <td>6</td>\n",
       "      <td>Typ</td>\n",
       "      <td>0</td>\n",
       "      <td>NaN</td>\n",
       "      <td>Attchd</td>\n",
       "      <td>1958.0</td>\n",
       "      <td>Unf</td>\n",
       "      <td>1.0</td>\n",
       "      <td>312.0</td>\n",
       "      <td>TA</td>\n",
       "      <td>TA</td>\n",
       "      <td>Y</td>\n",
       "      <td>393</td>\n",
       "      <td>36</td>\n",
       "      <td>0</td>\n",
       "      <td>0</td>\n",
       "      <td>0</td>\n",
       "      <td>0</td>\n",
       "      <td>12500</td>\n",
       "      <td>6</td>\n",
       "      <td>2010</td>\n",
       "      <td>WD</td>\n",
       "      <td>Normal</td>\n",
       "      <td>172000</td>\n",
       "      <td>64</td>\n",
       "      <td>8</td>\n",
       "      <td>4</td>\n",
       "      <td>3</td>\n",
       "      <td>3</td>\n",
       "      <td>2</td>\n",
       "      <td>0</td>\n",
       "      <td>0</td>\n",
       "      <td>0</td>\n",
       "      <td>3</td>\n",
       "      <td>0</td>\n",
       "      <td>1</td>\n",
       "      <td>1</td>\n",
       "      <td>0</td>\n",
       "      <td>0</td>\n",
       "      <td>0</td>\n",
       "      <td>0</td>\n",
       "      <td>1.5</td>\n",
       "      <td>1</td>\n",
       "      <td>1</td>\n",
       "      <td>0</td>\n",
       "      <td>0</td>\n",
       "      <td>0</td>\n",
       "      <td>1</td>\n",
       "      <td>0</td>\n",
       "      <td>0</td>\n",
       "      <td>1</td>\n",
       "      <td>0</td>\n",
       "      <td>0</td>\n",
       "      <td>12.055250</td>\n",
       "    </tr>\n",
       "    <tr>\n",
       "      <th>4</th>\n",
       "      <td>526353030</td>\n",
       "      <td>20</td>\n",
       "      <td>RL</td>\n",
       "      <td>93.0</td>\n",
       "      <td>11160</td>\n",
       "      <td>Reg</td>\n",
       "      <td>Lvl</td>\n",
       "      <td>Corner</td>\n",
       "      <td>Gtl</td>\n",
       "      <td>NAmes</td>\n",
       "      <td>Norm</td>\n",
       "      <td>Norm</td>\n",
       "      <td>1Fam</td>\n",
       "      <td>1Story</td>\n",
       "      <td>7</td>\n",
       "      <td>5</td>\n",
       "      <td>1968</td>\n",
       "      <td>1968</td>\n",
       "      <td>Hip</td>\n",
       "      <td>CompShg</td>\n",
       "      <td>BrkFace</td>\n",
       "      <td>BrkFace</td>\n",
       "      <td>None</td>\n",
       "      <td>0.0</td>\n",
       "      <td>Gd</td>\n",
       "      <td>TA</td>\n",
       "      <td>CBlock</td>\n",
       "      <td>TA</td>\n",
       "      <td>TA</td>\n",
       "      <td>No</td>\n",
       "      <td>ALQ</td>\n",
       "      <td>1065.0</td>\n",
       "      <td>Unf</td>\n",
       "      <td>0.0</td>\n",
       "      <td>1045.0</td>\n",
       "      <td>2110.0</td>\n",
       "      <td>GasA</td>\n",
       "      <td>Ex</td>\n",
       "      <td>1</td>\n",
       "      <td>SBrkr</td>\n",
       "      <td>2110</td>\n",
       "      <td>0</td>\n",
       "      <td>0</td>\n",
       "      <td>2110</td>\n",
       "      <td>1.0</td>\n",
       "      <td>0.0</td>\n",
       "      <td>3</td>\n",
       "      <td>1</td>\n",
       "      <td>Ex</td>\n",
       "      <td>8</td>\n",
       "      <td>Typ</td>\n",
       "      <td>2</td>\n",
       "      <td>TA</td>\n",
       "      <td>Attchd</td>\n",
       "      <td>1968.0</td>\n",
       "      <td>Fin</td>\n",
       "      <td>2.0</td>\n",
       "      <td>522.0</td>\n",
       "      <td>TA</td>\n",
       "      <td>TA</td>\n",
       "      <td>Y</td>\n",
       "      <td>0</td>\n",
       "      <td>0</td>\n",
       "      <td>0</td>\n",
       "      <td>0</td>\n",
       "      <td>0</td>\n",
       "      <td>0</td>\n",
       "      <td>0</td>\n",
       "      <td>4</td>\n",
       "      <td>2010</td>\n",
       "      <td>WD</td>\n",
       "      <td>Normal</td>\n",
       "      <td>244000</td>\n",
       "      <td>54</td>\n",
       "      <td>8</td>\n",
       "      <td>5</td>\n",
       "      <td>3</td>\n",
       "      <td>4</td>\n",
       "      <td>2</td>\n",
       "      <td>0</td>\n",
       "      <td>0</td>\n",
       "      <td>0</td>\n",
       "      <td>3</td>\n",
       "      <td>0</td>\n",
       "      <td>1</td>\n",
       "      <td>1</td>\n",
       "      <td>0</td>\n",
       "      <td>0</td>\n",
       "      <td>0</td>\n",
       "      <td>0</td>\n",
       "      <td>2.5</td>\n",
       "      <td>1</td>\n",
       "      <td>1</td>\n",
       "      <td>0</td>\n",
       "      <td>0</td>\n",
       "      <td>0</td>\n",
       "      <td>1</td>\n",
       "      <td>1</td>\n",
       "      <td>0</td>\n",
       "      <td>0</td>\n",
       "      <td>0</td>\n",
       "      <td>0</td>\n",
       "      <td>12.404924</td>\n",
       "    </tr>\n",
       "    <tr>\n",
       "      <th>5</th>\n",
       "      <td>527105010</td>\n",
       "      <td>60</td>\n",
       "      <td>RL</td>\n",
       "      <td>74.0</td>\n",
       "      <td>13830</td>\n",
       "      <td>IR1</td>\n",
       "      <td>Lvl</td>\n",
       "      <td>Inside</td>\n",
       "      <td>Gtl</td>\n",
       "      <td>Gilbert</td>\n",
       "      <td>Norm</td>\n",
       "      <td>Norm</td>\n",
       "      <td>1Fam</td>\n",
       "      <td>2Story</td>\n",
       "      <td>5</td>\n",
       "      <td>5</td>\n",
       "      <td>1997</td>\n",
       "      <td>1998</td>\n",
       "      <td>Gable</td>\n",
       "      <td>CompShg</td>\n",
       "      <td>VinylSd</td>\n",
       "      <td>VinylSd</td>\n",
       "      <td>None</td>\n",
       "      <td>0.0</td>\n",
       "      <td>TA</td>\n",
       "      <td>TA</td>\n",
       "      <td>PConc</td>\n",
       "      <td>Gd</td>\n",
       "      <td>TA</td>\n",
       "      <td>No</td>\n",
       "      <td>GLQ</td>\n",
       "      <td>791.0</td>\n",
       "      <td>Unf</td>\n",
       "      <td>0.0</td>\n",
       "      <td>137.0</td>\n",
       "      <td>928.0</td>\n",
       "      <td>GasA</td>\n",
       "      <td>Gd</td>\n",
       "      <td>1</td>\n",
       "      <td>SBrkr</td>\n",
       "      <td>928</td>\n",
       "      <td>701</td>\n",
       "      <td>0</td>\n",
       "      <td>1629</td>\n",
       "      <td>0.0</td>\n",
       "      <td>0.0</td>\n",
       "      <td>3</td>\n",
       "      <td>1</td>\n",
       "      <td>TA</td>\n",
       "      <td>6</td>\n",
       "      <td>Typ</td>\n",
       "      <td>1</td>\n",
       "      <td>TA</td>\n",
       "      <td>Attchd</td>\n",
       "      <td>1997.0</td>\n",
       "      <td>Fin</td>\n",
       "      <td>2.0</td>\n",
       "      <td>482.0</td>\n",
       "      <td>TA</td>\n",
       "      <td>TA</td>\n",
       "      <td>Y</td>\n",
       "      <td>212</td>\n",
       "      <td>34</td>\n",
       "      <td>0</td>\n",
       "      <td>0</td>\n",
       "      <td>0</td>\n",
       "      <td>0</td>\n",
       "      <td>0</td>\n",
       "      <td>3</td>\n",
       "      <td>2010</td>\n",
       "      <td>WD</td>\n",
       "      <td>Normal</td>\n",
       "      <td>189900</td>\n",
       "      <td>25</td>\n",
       "      <td>8</td>\n",
       "      <td>3</td>\n",
       "      <td>3</td>\n",
       "      <td>3</td>\n",
       "      <td>3</td>\n",
       "      <td>0</td>\n",
       "      <td>0</td>\n",
       "      <td>0</td>\n",
       "      <td>3</td>\n",
       "      <td>0</td>\n",
       "      <td>1</td>\n",
       "      <td>1</td>\n",
       "      <td>0</td>\n",
       "      <td>0</td>\n",
       "      <td>0</td>\n",
       "      <td>0</td>\n",
       "      <td>2.5</td>\n",
       "      <td>1</td>\n",
       "      <td>1</td>\n",
       "      <td>0</td>\n",
       "      <td>0</td>\n",
       "      <td>0</td>\n",
       "      <td>1</td>\n",
       "      <td>0</td>\n",
       "      <td>0</td>\n",
       "      <td>0</td>\n",
       "      <td>0</td>\n",
       "      <td>1</td>\n",
       "      <td>12.154253</td>\n",
       "    </tr>\n",
       "  </tbody>\n",
       "</table>\n",
       "</div>"
      ],
      "text/plain": [
       "             PID  MS SubClass MS Zoning  Lot Frontage  Lot Area Lot Shape  \\\n",
       "Order                                                                       \n",
       "1      526301100           20        RL         141.0     31770       IR1   \n",
       "2      526350040           20        RH          80.0     11622       Reg   \n",
       "3      526351010           20        RL          81.0     14267       IR1   \n",
       "4      526353030           20        RL          93.0     11160       Reg   \n",
       "5      527105010           60        RL          74.0     13830       IR1   \n",
       "\n",
       "      Land Contour Lot Config Land Slope Neighborhood Condition 1 Condition 2  \\\n",
       "Order                                                                           \n",
       "1              Lvl     Corner        Gtl        NAmes        Norm        Norm   \n",
       "2              Lvl     Inside        Gtl        NAmes       Feedr        Norm   \n",
       "3              Lvl     Corner        Gtl        NAmes        Norm        Norm   \n",
       "4              Lvl     Corner        Gtl        NAmes        Norm        Norm   \n",
       "5              Lvl     Inside        Gtl      Gilbert        Norm        Norm   \n",
       "\n",
       "      Bldg Type House Style  Overall Qual  Overall Cond  Year Built  \\\n",
       "Order                                                                 \n",
       "1          1Fam      1Story             6             5        1960   \n",
       "2          1Fam      1Story             5             6        1961   \n",
       "3          1Fam      1Story             6             6        1958   \n",
       "4          1Fam      1Story             7             5        1968   \n",
       "5          1Fam      2Story             5             5        1997   \n",
       "\n",
       "       Year Remod/Add Roof Style Roof Matl Exterior 1st Exterior 2nd  \\\n",
       "Order                                                                  \n",
       "1                1960        Hip   CompShg      BrkFace      Plywood   \n",
       "2                1961      Gable   CompShg      VinylSd      VinylSd   \n",
       "3                1958        Hip   CompShg      Wd Sdng      Wd Sdng   \n",
       "4                1968        Hip   CompShg      BrkFace      BrkFace   \n",
       "5                1998      Gable   CompShg      VinylSd      VinylSd   \n",
       "\n",
       "      Mas Vnr Type  Mas Vnr Area Exter Qual Exter Cond Foundation Bsmt Qual  \\\n",
       "Order                                                                         \n",
       "1            Stone         112.0         TA         TA     CBlock        TA   \n",
       "2             None           0.0         TA         TA     CBlock        TA   \n",
       "3          BrkFace         108.0         TA         TA     CBlock        TA   \n",
       "4             None           0.0         Gd         TA     CBlock        TA   \n",
       "5             None           0.0         TA         TA      PConc        Gd   \n",
       "\n",
       "      Bsmt Cond Bsmt Exposure BsmtFin Type 1  BsmtFin SF 1 BsmtFin Type 2  \\\n",
       "Order                                                                       \n",
       "1            Gd            Gd            BLQ         639.0            Unf   \n",
       "2            TA            No            Rec         468.0            LwQ   \n",
       "3            TA            No            ALQ         923.0            Unf   \n",
       "4            TA            No            ALQ        1065.0            Unf   \n",
       "5            TA            No            GLQ         791.0            Unf   \n",
       "\n",
       "       BsmtFin SF 2  Bsmt Unf SF  Total Bsmt SF Heating Heating QC  \\\n",
       "Order                                                                \n",
       "1               0.0        441.0         1080.0    GasA         Fa   \n",
       "2             144.0        270.0          882.0    GasA         TA   \n",
       "3               0.0        406.0         1329.0    GasA         TA   \n",
       "4               0.0       1045.0         2110.0    GasA         Ex   \n",
       "5               0.0        137.0          928.0    GasA         Gd   \n",
       "\n",
       "       Central Air Electrical  1st Flr SF  2nd Flr SF  Low Qual Fin SF  \\\n",
       "Order                                                                    \n",
       "1                1      SBrkr        1656           0                0   \n",
       "2                1      SBrkr         896           0                0   \n",
       "3                1      SBrkr        1329           0                0   \n",
       "4                1      SBrkr        2110           0                0   \n",
       "5                1      SBrkr         928         701                0   \n",
       "\n",
       "       Gr Liv Area  Bsmt Full Bath  Bsmt Half Bath  Bedroom AbvGr  \\\n",
       "Order                                                               \n",
       "1             1656             1.0             0.0              3   \n",
       "2              896             0.0             0.0              2   \n",
       "3             1329             0.0             0.0              3   \n",
       "4             2110             1.0             0.0              3   \n",
       "5             1629             0.0             0.0              3   \n",
       "\n",
       "       Kitchen AbvGr Kitchen Qual  TotRms AbvGrd Functional  Fireplaces  \\\n",
       "Order                                                                     \n",
       "1                  1           TA              7        Typ           2   \n",
       "2                  1           TA              5        Typ           0   \n",
       "3                  1           Gd              6        Typ           0   \n",
       "4                  1           Ex              8        Typ           2   \n",
       "5                  1           TA              6        Typ           1   \n",
       "\n",
       "      Fireplace Qu Garage Type  Garage Yr Blt Garage Finish  Garage Cars  \\\n",
       "Order                                                                      \n",
       "1               Gd      Attchd         1960.0           Fin          2.0   \n",
       "2              NaN      Attchd         1961.0           Unf          1.0   \n",
       "3              NaN      Attchd         1958.0           Unf          1.0   \n",
       "4               TA      Attchd         1968.0           Fin          2.0   \n",
       "5               TA      Attchd         1997.0           Fin          2.0   \n",
       "\n",
       "       Garage Area Garage Qual Garage Cond Paved Drive  Wood Deck SF  \\\n",
       "Order                                                                  \n",
       "1            528.0          TA          TA           P           210   \n",
       "2            730.0          TA          TA           Y           140   \n",
       "3            312.0          TA          TA           Y           393   \n",
       "4            522.0          TA          TA           Y             0   \n",
       "5            482.0          TA          TA           Y           212   \n",
       "\n",
       "       Open Porch SF  Enclosed Porch  3Ssn Porch  Screen Porch  Pool Area  \\\n",
       "Order                                                                       \n",
       "1                 62               0           0             0          0   \n",
       "2                  0               0           0           120          0   \n",
       "3                 36               0           0             0          0   \n",
       "4                  0               0           0             0          0   \n",
       "5                 34               0           0             0          0   \n",
       "\n",
       "       Misc Val  Mo Sold  Yr Sold Sale Type Sale Condition  SalePrice  Age  \\\n",
       "Order                                                                        \n",
       "1             0        5     2010       WD          Normal     215000   62   \n",
       "2             0        6     2010       WD          Normal     105000   61   \n",
       "3         12500        6     2010       WD          Normal     172000   64   \n",
       "4             0        4     2010       WD          Normal     244000   54   \n",
       "5             0        3     2010       WD          Normal     189900   25   \n",
       "\n",
       "       Functional_Num  KitchenQual_Num  ExterCond_Num  ExterQual_Num  \\\n",
       "Order                                                                  \n",
       "1                   8                3              3              3   \n",
       "2                   8                3              3              3   \n",
       "3                   8                4              3              3   \n",
       "4                   8                5              3              4   \n",
       "5                   8                3              3              3   \n",
       "\n",
       "       LocationProxy  closeToRailOrRoad1  closeToRailOrRoad2  \\\n",
       "Order                                                          \n",
       "1                  2                   0                   0   \n",
       "2                  2                   1                   0   \n",
       "3                  2                   0                   0   \n",
       "4                  2                   0                   0   \n",
       "5                  3                   0                   0   \n",
       "\n",
       "       closeToRailorRoad  pop_density  closeToAmentity  streetIsPaved  \\\n",
       "Order                                                                   \n",
       "1                      0            3                0              1   \n",
       "2                      1            1                0              1   \n",
       "3                      0            3                0              1   \n",
       "4                      0            3                0              1   \n",
       "5                      0            3                0              1   \n",
       "\n",
       "       BldingType_1Fam  BldingType_2fmCon  BldingType_Duplex  \\\n",
       "Order                                                          \n",
       "1                    1                  0                  0   \n",
       "2                    1                  0                  0   \n",
       "3                    1                  0                  0   \n",
       "4                    1                  0                  0   \n",
       "5                    1                  0                  0   \n",
       "\n",
       "       BldingType_Twnhs  BldingType_TwnhsE  Bathrooms  hasGarage  flatContour  \\\n",
       "Order                                                                           \n",
       "1                     0                  0        1.0          1            1   \n",
       "2                     0                  0        1.0          1            1   \n",
       "3                     0                  0        1.5          1            1   \n",
       "4                     0                  0        2.5          1            1   \n",
       "5                     0                  0        2.5          1            1   \n",
       "\n",
       "       LandContour_Bnk  LandContour_HLS  LandContour_Low  LandContour_Lvl  \\\n",
       "Order                                                                       \n",
       "1                    0                0                0                1   \n",
       "2                    0                0                0                1   \n",
       "3                    0                0                0                1   \n",
       "4                    0                0                0                1   \n",
       "5                    0                0                0                1   \n",
       "\n",
       "       kitchen_Ex  kitchen_Fa  kitchen_Gd  kitchen_Po  kitchen_TA  LnSalePrice  \n",
       "Order                                                                           \n",
       "1               0           0           0           0           1    12.278393  \n",
       "2               0           0           0           0           1    11.561716  \n",
       "3               0           0           1           0           0    12.055250  \n",
       "4               1           0           0           0           0    12.404924  \n",
       "5               0           0           0           0           1    12.154253  "
      ]
     },
     "execution_count": 91,
     "metadata": {},
     "output_type": "execute_result"
    }
   ],
   "source": [
    "pd.options.display.max_columns = None\n",
    "df.head()"
   ]
  },
  {
   "cell_type": "code",
   "execution_count": 93,
   "id": "116f2765-b3ae-44f1-b4eb-52942e9f16e1",
   "metadata": {},
   "outputs": [],
   "source": [
    "# keep subset of features and the target\n",
    "df = df[\n",
    "    ['SalePrice', 'LnSalePrice', 'LandContour_Lvl','LandContour_Low', 'LandContour_HLS', 'LandContour_Bnk',\n",
    "     'flatContour', 'hasGarage', 'Bathrooms', 'BldingType_TwnhsE', 'BldingType_Twnhs', 'BldingType_Duplex', \n",
    "     'BldingType_2fmCon', 'BldingType_1Fam', 'streetIsPaved', 'closeToAmentity', 'YrSold_2010', 'YrSold_2009',\n",
    "     'YrSold_2008', 'YrSold_2007', 'YrSold_2006', 'pop_density', 'closeToRailorRoad', 'LocationProxy',\n",
    "     'Age', 'Mo Sold', 'Garage Area', 'Fireplaces', 'TotRms AbvGrd', 'Kitchen AbvGr', 'Bedroom AbvGr',\n",
    "     'Gr Liv Area', 'Central Air', 'Overall Cond', 'Overall Qual', 'Lot Area', 'Lot Frontage', \n",
    "     'kitchen_Ex'\n",
    "    ]\n",
    "]"
   ]
  },
  {
   "cell_type": "code",
   "execution_count": 113,
   "id": "0da7b5d8-4f1d-4ef8-995f-949ac488fc50",
   "metadata": {},
   "outputs": [],
   "source": [
    "#  export data\n",
    "df.to_csv(\"data/engineered_data.csv\", index=False)"
   ]
  },
  {
   "cell_type": "markdown",
   "id": "1fb90120-9861-47a2-85a9-2a2cdf04f3c2",
   "metadata": {},
   "source": [
    "### End of data engineering notebook, now onto regression analysis!"
   ]
  }
 ],
 "metadata": {
  "kernelspec": {
   "display_name": "Python 3 (ipykernel)",
   "language": "python",
   "name": "python3"
  },
  "language_info": {
   "codemirror_mode": {
    "name": "ipython",
    "version": 3
   },
   "file_extension": ".py",
   "mimetype": "text/x-python",
   "name": "python",
   "nbconvert_exporter": "python",
   "pygments_lexer": "ipython3",
   "version": "3.10.5"
  }
 },
 "nbformat": 4,
 "nbformat_minor": 5
}
